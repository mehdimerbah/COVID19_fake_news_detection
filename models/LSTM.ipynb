{
  "nbformat": 4,
  "nbformat_minor": 0,
  "metadata": {
    "colab": {
      "name": "LSTM.ipynb",
      "provenance": [],
      "collapsed_sections": [],
      "authorship_tag": "ABX9TyOfJZtrpWSRmggCnI83KTsm",
      "include_colab_link": true
    },
    "kernelspec": {
      "name": "python3",
      "display_name": "Python 3"
    },
    "language_info": {
      "name": "python"
    }
  },
  "cells": [
    {
      "cell_type": "markdown",
      "metadata": {
        "id": "view-in-github",
        "colab_type": "text"
      },
      "source": [
        "<a href=\"https://colab.research.google.com/github/mehdimerbah/COVID19_fake_news_detection/blob/main/models/LSTM.ipynb\" target=\"_parent\"><img src=\"https://colab.research.google.com/assets/colab-badge.svg\" alt=\"Open In Colab\"/></a>"
      ]
    },
    {
      "cell_type": "markdown",
      "metadata": {
        "id": "FllBevo_SoHP"
      },
      "source": [
        "# Library and Data Import"
      ]
    },
    {
      "cell_type": "code",
      "metadata": {
        "id": "lxYwpeS6zsV8"
      },
      "source": [
        "import pandas as pd\n",
        "import numpy as np\n",
        "import matplotlib.pyplot as plt\n",
        "\n",
        "from sklearn.metrics import classification_report, accuracy_score, precision_score, recall_score, f1_score, roc_curve, auc\n",
        "from tensorflow.keras.layers import Embedding\n",
        "from tensorflow.keras.models import Sequential\n",
        "from tensorflow.keras.preprocessing.sequence import pad_sequences\n",
        "from tensorflow.keras.preprocessing.text import one_hot\n",
        "from tensorflow.keras.layers import LSTM, Dense\n",
        "import json"
      ],
      "execution_count": null,
      "outputs": []
    },
    {
      "cell_type": "code",
      "metadata": {
        "id": "-8hS3MR6S-A3"
      },
      "source": [
        "dataset = pd.read_csv('https://raw.githubusercontent.com/mehdimerbah/COVID19_fake_news_detection/main/preprocessing/whole_processed_data.csv')"
      ],
      "execution_count": null,
      "outputs": []
    },
    {
      "cell_type": "markdown",
      "metadata": {
        "id": "anJZ6IXxiD9I"
      },
      "source": [
        "# One-Hot Data Representation  \n",
        "hot representation is a type of encoding that we would use for categorical data to turn it into a numerical value in the feature vector. We used the one_hot encoding to then create an embedded dataset, with padding. The padding function makes sure to leave room for words unavailable in some sentences.    "
      ]
    },
    {
      "cell_type": "code",
      "metadata": {
        "id": "SXVhBKmWTORJ"
      },
      "source": [
        "oh_representation = [one_hot(terms, 1000) for terms in dataset['tweet']]"
      ],
      "execution_count": null,
      "outputs": []
    },
    {
      "cell_type": "code",
      "metadata": {
        "id": "EE5zV7qgTfHr"
      },
      "source": [
        "sentence_len = 50\n",
        "embedded_data = pad_sequences(oh_representation, padding='pre', maxlen=sentence_len)"
      ],
      "execution_count": null,
      "outputs": []
    },
    {
      "cell_type": "code",
      "metadata": {
        "id": "TK5ObpcDTusl",
        "colab": {
          "base_uri": "https://localhost:8080/"
        },
        "outputId": "43b94e75-259f-4b42-8284-06ab5181c8a9"
      },
      "source": [
        "embedded_data[:5]"
      ],
      "execution_count": null,
      "outputs": [
        {
          "output_type": "execute_result",
          "data": {
            "text/plain": [
              "array([[  0,   0,   0,   0,   0,   0,   0,   0,   0,   0,   0,   0,   0,\n",
              "          0,   0,   0,   0,   0,   0,   0,   0,   0,   0,   0,   0,   0,\n",
              "          0,   0,   0,   0, 453,   3, 885, 639, 587, 778, 862, 729, 977,\n",
              "        927, 314, 285, 543, 729, 954, 118, 384, 124, 687, 905],\n",
              "       [  0,   0,   0,   0,   0,   0,   0,   0,   0,   0,   0,   0,   0,\n",
              "          0,   0,   0,   0,   0,   0,   0,   0,   0,   0,   0,   0,   0,\n",
              "          0,   0,   0,   0,   0,   0,   0,   0,   0,   0,   0, 115, 989,\n",
              "        885, 587, 285, 240, 489, 977, 444, 115, 989,  98, 587],\n",
              "       [  0,   0,   0,   0,   0,   0,   0,   0,   0,   0,   0,   0,   0,\n",
              "          0,   0,   0,   0,   0,   0,   0,   0,   0,   0,   0,   0,   0,\n",
              "          0,   0,   0,   0,   0,   0,   0,   0,   0,   0,   0,   0, 838,\n",
              "         31, 524, 286, 341, 536, 278, 169, 354, 380, 860, 452],\n",
              "       [  0,   0,   0,   0,   0,   0,   0,   0,   0,   0,   0,   0,   0,\n",
              "          0,   0,   0,   0,   0,   0,   0,   0,   0,   0,   0,   0,   0,\n",
              "          0,   0,   0,   0,   0,   0,   0, 636, 801, 347, 174, 482,  85,\n",
              "         22,  18, 109, 131, 567, 742, 504, 481, 844, 290, 903],\n",
              "       [  0,   0,   0,   0,   0,   0,   0,   0,   0,   0,   0,   0,   0,\n",
              "          0,   0,   0,   0,   0,   0,   0, 465, 115, 231, 946, 138, 977,\n",
              "        172, 114, 192, 130,  26, 905, 677, 160, 115,   9, 192, 130,  26,\n",
              "        812, 876, 698, 535,  47, 106, 516, 110, 988, 138, 356]],\n",
              "      dtype=int32)"
            ]
          },
          "metadata": {},
          "execution_count": 13
        }
      ]
    },
    {
      "cell_type": "code",
      "metadata": {
        "colab": {
          "base_uri": "https://localhost:8080/",
          "height": 226
        },
        "id": "Q1xrubt1T10X",
        "outputId": "2ec0eaa2-25eb-493f-c507-a6a453c9356c"
      },
      "source": [
        "# For easier manipulation I will transform the 2D array into a pandas DataFrame\n",
        "embedded_DF = pd.DataFrame(embedded_data)\n",
        "# Adding one column for the class labels to the DF\n",
        "embedded_DF['label'] = dataset['label']\n",
        "# Converting the lables from (real/fake) strings to (1/0)\n",
        "embedded_DF['label'] = embedded_DF.label.eq('real').mul(1)\n",
        "\n",
        "# Data Splitting\n",
        "training_set = embedded_DF.iloc[:6420]\n",
        "validation_set = embedded_DF.iloc[6420:8560]\n",
        "testing_set = embedded_DF.iloc[8560:]\n",
        "embedded_DF.head()"
      ],
      "execution_count": null,
      "outputs": [
        {
          "output_type": "execute_result",
          "data": {
            "text/html": [
              "<div>\n",
              "<style scoped>\n",
              "    .dataframe tbody tr th:only-of-type {\n",
              "        vertical-align: middle;\n",
              "    }\n",
              "\n",
              "    .dataframe tbody tr th {\n",
              "        vertical-align: top;\n",
              "    }\n",
              "\n",
              "    .dataframe thead th {\n",
              "        text-align: right;\n",
              "    }\n",
              "</style>\n",
              "<table border=\"1\" class=\"dataframe\">\n",
              "  <thead>\n",
              "    <tr style=\"text-align: right;\">\n",
              "      <th></th>\n",
              "      <th>0</th>\n",
              "      <th>1</th>\n",
              "      <th>2</th>\n",
              "      <th>3</th>\n",
              "      <th>4</th>\n",
              "      <th>5</th>\n",
              "      <th>6</th>\n",
              "      <th>7</th>\n",
              "      <th>8</th>\n",
              "      <th>9</th>\n",
              "      <th>10</th>\n",
              "      <th>11</th>\n",
              "      <th>12</th>\n",
              "      <th>13</th>\n",
              "      <th>14</th>\n",
              "      <th>15</th>\n",
              "      <th>16</th>\n",
              "      <th>17</th>\n",
              "      <th>18</th>\n",
              "      <th>19</th>\n",
              "      <th>20</th>\n",
              "      <th>21</th>\n",
              "      <th>22</th>\n",
              "      <th>23</th>\n",
              "      <th>24</th>\n",
              "      <th>25</th>\n",
              "      <th>26</th>\n",
              "      <th>27</th>\n",
              "      <th>28</th>\n",
              "      <th>29</th>\n",
              "      <th>30</th>\n",
              "      <th>31</th>\n",
              "      <th>32</th>\n",
              "      <th>33</th>\n",
              "      <th>34</th>\n",
              "      <th>35</th>\n",
              "      <th>36</th>\n",
              "      <th>37</th>\n",
              "      <th>38</th>\n",
              "      <th>39</th>\n",
              "      <th>40</th>\n",
              "      <th>41</th>\n",
              "      <th>42</th>\n",
              "      <th>43</th>\n",
              "      <th>44</th>\n",
              "      <th>45</th>\n",
              "      <th>46</th>\n",
              "      <th>47</th>\n",
              "      <th>48</th>\n",
              "      <th>49</th>\n",
              "      <th>label</th>\n",
              "    </tr>\n",
              "  </thead>\n",
              "  <tbody>\n",
              "    <tr>\n",
              "      <th>0</th>\n",
              "      <td>0</td>\n",
              "      <td>0</td>\n",
              "      <td>0</td>\n",
              "      <td>0</td>\n",
              "      <td>0</td>\n",
              "      <td>0</td>\n",
              "      <td>0</td>\n",
              "      <td>0</td>\n",
              "      <td>0</td>\n",
              "      <td>0</td>\n",
              "      <td>0</td>\n",
              "      <td>0</td>\n",
              "      <td>0</td>\n",
              "      <td>0</td>\n",
              "      <td>0</td>\n",
              "      <td>0</td>\n",
              "      <td>0</td>\n",
              "      <td>0</td>\n",
              "      <td>0</td>\n",
              "      <td>0</td>\n",
              "      <td>0</td>\n",
              "      <td>0</td>\n",
              "      <td>0</td>\n",
              "      <td>0</td>\n",
              "      <td>0</td>\n",
              "      <td>0</td>\n",
              "      <td>0</td>\n",
              "      <td>0</td>\n",
              "      <td>0</td>\n",
              "      <td>0</td>\n",
              "      <td>453</td>\n",
              "      <td>3</td>\n",
              "      <td>885</td>\n",
              "      <td>639</td>\n",
              "      <td>587</td>\n",
              "      <td>778</td>\n",
              "      <td>862</td>\n",
              "      <td>729</td>\n",
              "      <td>977</td>\n",
              "      <td>927</td>\n",
              "      <td>314</td>\n",
              "      <td>285</td>\n",
              "      <td>543</td>\n",
              "      <td>729</td>\n",
              "      <td>954</td>\n",
              "      <td>118</td>\n",
              "      <td>384</td>\n",
              "      <td>124</td>\n",
              "      <td>687</td>\n",
              "      <td>905</td>\n",
              "      <td>1</td>\n",
              "    </tr>\n",
              "    <tr>\n",
              "      <th>1</th>\n",
              "      <td>0</td>\n",
              "      <td>0</td>\n",
              "      <td>0</td>\n",
              "      <td>0</td>\n",
              "      <td>0</td>\n",
              "      <td>0</td>\n",
              "      <td>0</td>\n",
              "      <td>0</td>\n",
              "      <td>0</td>\n",
              "      <td>0</td>\n",
              "      <td>0</td>\n",
              "      <td>0</td>\n",
              "      <td>0</td>\n",
              "      <td>0</td>\n",
              "      <td>0</td>\n",
              "      <td>0</td>\n",
              "      <td>0</td>\n",
              "      <td>0</td>\n",
              "      <td>0</td>\n",
              "      <td>0</td>\n",
              "      <td>0</td>\n",
              "      <td>0</td>\n",
              "      <td>0</td>\n",
              "      <td>0</td>\n",
              "      <td>0</td>\n",
              "      <td>0</td>\n",
              "      <td>0</td>\n",
              "      <td>0</td>\n",
              "      <td>0</td>\n",
              "      <td>0</td>\n",
              "      <td>0</td>\n",
              "      <td>0</td>\n",
              "      <td>0</td>\n",
              "      <td>0</td>\n",
              "      <td>0</td>\n",
              "      <td>0</td>\n",
              "      <td>0</td>\n",
              "      <td>115</td>\n",
              "      <td>989</td>\n",
              "      <td>885</td>\n",
              "      <td>587</td>\n",
              "      <td>285</td>\n",
              "      <td>240</td>\n",
              "      <td>489</td>\n",
              "      <td>977</td>\n",
              "      <td>444</td>\n",
              "      <td>115</td>\n",
              "      <td>989</td>\n",
              "      <td>98</td>\n",
              "      <td>587</td>\n",
              "      <td>1</td>\n",
              "    </tr>\n",
              "    <tr>\n",
              "      <th>2</th>\n",
              "      <td>0</td>\n",
              "      <td>0</td>\n",
              "      <td>0</td>\n",
              "      <td>0</td>\n",
              "      <td>0</td>\n",
              "      <td>0</td>\n",
              "      <td>0</td>\n",
              "      <td>0</td>\n",
              "      <td>0</td>\n",
              "      <td>0</td>\n",
              "      <td>0</td>\n",
              "      <td>0</td>\n",
              "      <td>0</td>\n",
              "      <td>0</td>\n",
              "      <td>0</td>\n",
              "      <td>0</td>\n",
              "      <td>0</td>\n",
              "      <td>0</td>\n",
              "      <td>0</td>\n",
              "      <td>0</td>\n",
              "      <td>0</td>\n",
              "      <td>0</td>\n",
              "      <td>0</td>\n",
              "      <td>0</td>\n",
              "      <td>0</td>\n",
              "      <td>0</td>\n",
              "      <td>0</td>\n",
              "      <td>0</td>\n",
              "      <td>0</td>\n",
              "      <td>0</td>\n",
              "      <td>0</td>\n",
              "      <td>0</td>\n",
              "      <td>0</td>\n",
              "      <td>0</td>\n",
              "      <td>0</td>\n",
              "      <td>0</td>\n",
              "      <td>0</td>\n",
              "      <td>0</td>\n",
              "      <td>838</td>\n",
              "      <td>31</td>\n",
              "      <td>524</td>\n",
              "      <td>286</td>\n",
              "      <td>341</td>\n",
              "      <td>536</td>\n",
              "      <td>278</td>\n",
              "      <td>169</td>\n",
              "      <td>354</td>\n",
              "      <td>380</td>\n",
              "      <td>860</td>\n",
              "      <td>452</td>\n",
              "      <td>0</td>\n",
              "    </tr>\n",
              "    <tr>\n",
              "      <th>3</th>\n",
              "      <td>0</td>\n",
              "      <td>0</td>\n",
              "      <td>0</td>\n",
              "      <td>0</td>\n",
              "      <td>0</td>\n",
              "      <td>0</td>\n",
              "      <td>0</td>\n",
              "      <td>0</td>\n",
              "      <td>0</td>\n",
              "      <td>0</td>\n",
              "      <td>0</td>\n",
              "      <td>0</td>\n",
              "      <td>0</td>\n",
              "      <td>0</td>\n",
              "      <td>0</td>\n",
              "      <td>0</td>\n",
              "      <td>0</td>\n",
              "      <td>0</td>\n",
              "      <td>0</td>\n",
              "      <td>0</td>\n",
              "      <td>0</td>\n",
              "      <td>0</td>\n",
              "      <td>0</td>\n",
              "      <td>0</td>\n",
              "      <td>0</td>\n",
              "      <td>0</td>\n",
              "      <td>0</td>\n",
              "      <td>0</td>\n",
              "      <td>0</td>\n",
              "      <td>0</td>\n",
              "      <td>0</td>\n",
              "      <td>0</td>\n",
              "      <td>0</td>\n",
              "      <td>636</td>\n",
              "      <td>801</td>\n",
              "      <td>347</td>\n",
              "      <td>174</td>\n",
              "      <td>482</td>\n",
              "      <td>85</td>\n",
              "      <td>22</td>\n",
              "      <td>18</td>\n",
              "      <td>109</td>\n",
              "      <td>131</td>\n",
              "      <td>567</td>\n",
              "      <td>742</td>\n",
              "      <td>504</td>\n",
              "      <td>481</td>\n",
              "      <td>844</td>\n",
              "      <td>290</td>\n",
              "      <td>903</td>\n",
              "      <td>1</td>\n",
              "    </tr>\n",
              "    <tr>\n",
              "      <th>4</th>\n",
              "      <td>0</td>\n",
              "      <td>0</td>\n",
              "      <td>0</td>\n",
              "      <td>0</td>\n",
              "      <td>0</td>\n",
              "      <td>0</td>\n",
              "      <td>0</td>\n",
              "      <td>0</td>\n",
              "      <td>0</td>\n",
              "      <td>0</td>\n",
              "      <td>0</td>\n",
              "      <td>0</td>\n",
              "      <td>0</td>\n",
              "      <td>0</td>\n",
              "      <td>0</td>\n",
              "      <td>0</td>\n",
              "      <td>0</td>\n",
              "      <td>0</td>\n",
              "      <td>0</td>\n",
              "      <td>0</td>\n",
              "      <td>465</td>\n",
              "      <td>115</td>\n",
              "      <td>231</td>\n",
              "      <td>946</td>\n",
              "      <td>138</td>\n",
              "      <td>977</td>\n",
              "      <td>172</td>\n",
              "      <td>114</td>\n",
              "      <td>192</td>\n",
              "      <td>130</td>\n",
              "      <td>26</td>\n",
              "      <td>905</td>\n",
              "      <td>677</td>\n",
              "      <td>160</td>\n",
              "      <td>115</td>\n",
              "      <td>9</td>\n",
              "      <td>192</td>\n",
              "      <td>130</td>\n",
              "      <td>26</td>\n",
              "      <td>812</td>\n",
              "      <td>876</td>\n",
              "      <td>698</td>\n",
              "      <td>535</td>\n",
              "      <td>47</td>\n",
              "      <td>106</td>\n",
              "      <td>516</td>\n",
              "      <td>110</td>\n",
              "      <td>988</td>\n",
              "      <td>138</td>\n",
              "      <td>356</td>\n",
              "      <td>1</td>\n",
              "    </tr>\n",
              "  </tbody>\n",
              "</table>\n",
              "</div>"
            ],
            "text/plain": [
              "   0  1  2  3  4  5  6  7  8  ...   42   43   44   45   46   47   48   49  label\n",
              "0  0  0  0  0  0  0  0  0  0  ...  543  729  954  118  384  124  687  905      1\n",
              "1  0  0  0  0  0  0  0  0  0  ...  240  489  977  444  115  989   98  587      1\n",
              "2  0  0  0  0  0  0  0  0  0  ...  341  536  278  169  354  380  860  452      0\n",
              "3  0  0  0  0  0  0  0  0  0  ...  131  567  742  504  481  844  290  903      1\n",
              "4  0  0  0  0  0  0  0  0  0  ...  535   47  106  516  110  988  138  356      1\n",
              "\n",
              "[5 rows x 51 columns]"
            ]
          },
          "metadata": {},
          "execution_count": 14
        }
      ]
    },
    {
      "cell_type": "markdown",
      "metadata": {
        "id": "RpCBIXiOjnmA"
      },
      "source": [
        "# Building the Model"
      ]
    },
    {
      "cell_type": "code",
      "metadata": {
        "colab": {
          "base_uri": "https://localhost:8080/"
        },
        "id": "nCW8_GJlVf2A",
        "outputId": "a0649e1c-d343-490e-933c-e1cefb5a259f"
      },
      "source": [
        "# initializing model\n",
        "model = Sequential()\n",
        "# adding embedding layer\n",
        "model.add(Embedding(1000, 100, input_length=sentence_len))\n",
        "model.add(LSTM(150))\n",
        "model.add(Dense(1, activation='sigmoid'))\n",
        "model.compile(loss='binary_crossentropy', optimizer='adam', metrics=['accuracy'])\n",
        "model.summary()"
      ],
      "execution_count": null,
      "outputs": [
        {
          "output_type": "stream",
          "name": "stdout",
          "text": [
            "Model: \"sequential_1\"\n",
            "_________________________________________________________________\n",
            " Layer (type)                Output Shape              Param #   \n",
            "=================================================================\n",
            " embedding_1 (Embedding)     (None, 50, 100)           100000    \n",
            "                                                                 \n",
            " lstm_1 (LSTM)               (None, 150)               150600    \n",
            "                                                                 \n",
            " dense_1 (Dense)             (None, 1)                 151       \n",
            "                                                                 \n",
            "=================================================================\n",
            "Total params: 250,751\n",
            "Trainable params: 250,751\n",
            "Non-trainable params: 0\n",
            "_________________________________________________________________\n"
          ]
        }
      ]
    },
    {
      "cell_type": "code",
      "metadata": {
        "colab": {
          "base_uri": "https://localhost:8080/"
        },
        "id": "DtCQiaIDV9eJ",
        "outputId": "e17684d4-d534-4646-95bd-3bbe149d9d99"
      },
      "source": [
        "model_history = model.fit(training_set.iloc[:,:50], training_set.iloc[:,50], validation_data=(validation_set.iloc[:,:50], validation_set.iloc[:,50] ), epochs=10, batch_size=64)"
      ],
      "execution_count": null,
      "outputs": [
        {
          "output_type": "stream",
          "name": "stdout",
          "text": [
            "Epoch 1/10\n",
            "101/101 [==============================] - 19s 157ms/step - loss: 0.4549 - accuracy: 0.7921 - val_loss: 0.2938 - val_accuracy: 0.8766\n",
            "Epoch 2/10\n",
            "101/101 [==============================] - 15s 153ms/step - loss: 0.2466 - accuracy: 0.9003 - val_loss: 0.2806 - val_accuracy: 0.8864\n",
            "Epoch 3/10\n",
            "101/101 [==============================] - 15s 150ms/step - loss: 0.1970 - accuracy: 0.9246 - val_loss: 0.2890 - val_accuracy: 0.8762\n",
            "Epoch 4/10\n",
            "101/101 [==============================] - 15s 150ms/step - loss: 0.1638 - accuracy: 0.9399 - val_loss: 0.3228 - val_accuracy: 0.8776\n",
            "Epoch 5/10\n",
            "101/101 [==============================] - 15s 151ms/step - loss: 0.1392 - accuracy: 0.9494 - val_loss: 0.2943 - val_accuracy: 0.8893\n",
            "Epoch 6/10\n",
            "101/101 [==============================] - 15s 147ms/step - loss: 0.1206 - accuracy: 0.9578 - val_loss: 0.3185 - val_accuracy: 0.8822\n",
            "Epoch 7/10\n",
            "101/101 [==============================] - 15s 148ms/step - loss: 0.1022 - accuracy: 0.9659 - val_loss: 0.3361 - val_accuracy: 0.8836\n",
            "Epoch 8/10\n",
            "101/101 [==============================] - 15s 150ms/step - loss: 0.0966 - accuracy: 0.9643 - val_loss: 0.3965 - val_accuracy: 0.8766\n",
            "Epoch 9/10\n",
            "101/101 [==============================] - 15s 149ms/step - loss: 0.0805 - accuracy: 0.9713 - val_loss: 0.4084 - val_accuracy: 0.8776\n",
            "Epoch 10/10\n",
            "101/101 [==============================] - 15s 150ms/step - loss: 0.0618 - accuracy: 0.9777 - val_loss: 0.4818 - val_accuracy: 0.8757\n"
          ]
        }
      ]
    },
    {
      "cell_type": "code",
      "metadata": {
        "colab": {
          "base_uri": "https://localhost:8080/"
        },
        "id": "84eIpYmoXVHd",
        "outputId": "157f57d4-24f5-4bbf-fed7-a89ad82f7eca"
      },
      "source": [
        "# Now we can use the model to make some predictions.\n",
        "## The predictions values are squeezed between 0 and 1 by the sigmoid activation \n",
        "## We need to convert them to 1 or 0, to fit the classes\n",
        "predictions = model.predict(validation_set.iloc[:,:50])\n",
        "predictions[:5]"
      ],
      "execution_count": null,
      "outputs": [
        {
          "output_type": "execute_result",
          "data": {
            "text/plain": [
              "array([[4.2796135e-04],\n",
              "       [9.8690557e-01],\n",
              "       [1.1801055e-01],\n",
              "       [3.0583143e-04],\n",
              "       [9.9897474e-01]], dtype=float32)"
            ]
          },
          "metadata": {},
          "execution_count": 18
        }
      ]
    },
    {
      "cell_type": "code",
      "metadata": {
        "colab": {
          "base_uri": "https://localhost:8080/"
        },
        "id": "px2LQyZjeAUv",
        "outputId": "68f29840-d0b5-4ee2-d82d-fb5a8ea010de"
      },
      "source": [
        "# To convert the values, we simply compare to 0.5 and round it\n",
        "predictions = (predictions > 0.5).astype(\"int32\")\n",
        "predictions"
      ],
      "execution_count": null,
      "outputs": [
        {
          "output_type": "execute_result",
          "data": {
            "text/plain": [
              "array([[0],\n",
              "       [1],\n",
              "       [0],\n",
              "       ...,\n",
              "       [0],\n",
              "       [0],\n",
              "       [1]], dtype=int32)"
            ]
          },
          "metadata": {},
          "execution_count": 19
        }
      ]
    },
    {
      "cell_type": "markdown",
      "metadata": {
        "id": "7QX5orTQoaKO"
      },
      "source": [
        "# Results"
      ]
    },
    {
      "cell_type": "code",
      "metadata": {
        "colab": {
          "base_uri": "https://localhost:8080/"
        },
        "id": "RIW7UBQhorPE",
        "outputId": "08c91fe2-eff2-4528-eaad-154cf6b0fd2d"
      },
      "source": [
        "print(classification_report(validation_set['label'], predictions))"
      ],
      "execution_count": null,
      "outputs": [
        {
          "output_type": "stream",
          "name": "stdout",
          "text": [
            "              precision    recall  f1-score   support\n",
            "\n",
            "           0       0.86      0.88      0.87      1020\n",
            "           1       0.89      0.87      0.88      1120\n",
            "\n",
            "    accuracy                           0.88      2140\n",
            "   macro avg       0.88      0.88      0.88      2140\n",
            "weighted avg       0.88      0.88      0.88      2140\n",
            "\n"
          ]
        }
      ]
    },
    {
      "cell_type": "code",
      "metadata": {
        "colab": {
          "base_uri": "https://localhost:8080/"
        },
        "id": "32W9nRLNfEUN",
        "outputId": "54b8dea1-d9b9-499c-fc8d-992d90bf8f4a"
      },
      "source": [
        "round(accuracy_score(validation_set['label'], predictions), 5)"
      ],
      "execution_count": null,
      "outputs": [
        {
          "output_type": "execute_result",
          "data": {
            "text/plain": [
              "0.8757"
            ]
          },
          "metadata": {},
          "execution_count": 21
        }
      ]
    },
    {
      "cell_type": "code",
      "metadata": {
        "id": "QZahqCRzlzm7"
      },
      "source": [
        "def get_metrics(predicted,true):\n",
        "    metrics = dict()\n",
        "    metrics['accuracy'] = round(accuracy_score(predicted, true), 5)\n",
        "    metrics['precision'] = round(precision_score(predicted, true, average = 'weighted'), 5)\n",
        "    metrics['recall'] = round(recall_score(predicted, true, average = 'weighted'), 5)\n",
        "    metrics['f1'] = round(f1_score(predicted, true, average = 'weighted'), 5)\n",
        "    \n",
        "    return metrics\n",
        "    "
      ],
      "execution_count": null,
      "outputs": []
    },
    {
      "cell_type": "code",
      "metadata": {
        "colab": {
          "base_uri": "https://localhost:8080/"
        },
        "id": "CJwedwG1l0Jj",
        "outputId": "2476ac09-eeba-46a1-841f-d241c1950885"
      },
      "source": [
        "metrics = get_metrics(predictions, validation_set['label'])\n",
        "print(metrics)"
      ],
      "execution_count": null,
      "outputs": [
        {
          "output_type": "stream",
          "name": "stdout",
          "text": [
            "{'accuracy': 0.8757, 'precision': 0.87582, 'recall': 0.8757, 'f1': 0.87565}\n"
          ]
        }
      ]
    },
    {
      "cell_type": "code",
      "metadata": {
        "id": "wylbkFhvl49-"
      },
      "source": [
        "with open(\"LSTM_results.json\", \"w\") as output:\n",
        "    json.dump(metrics, output)"
      ],
      "execution_count": null,
      "outputs": []
    },
    {
      "cell_type": "code",
      "source": [
        "## Plot accuracy vs Loss\n",
        "loss_train = model_history.history['loss']\n",
        "#loss_val = model_history.history['val_loss']\n",
        "acc_training = model_history.history['accuracy']\n",
        "epochs = range(1,11)\n",
        "plt.plot(epochs, loss_train, 'g', label='Training loss')\n",
        "#plt.plot(epochs, loss_val, 'b', label='validation loss')\n",
        "plt.plot(epochs, acc_training, 'b', label='Training Accuracy')\n",
        "plt.title('Training Accuracy vs Loss')\n",
        "plt.xlabel('Epochs')\n",
        "plt.ylabel('Loss')\n",
        "plt.legend()\n",
        "plt.show()"
      ],
      "metadata": {
        "colab": {
          "base_uri": "https://localhost:8080/",
          "height": 295
        },
        "id": "ARmGzQTv-ZQU",
        "outputId": "8eedd49c-036b-49fc-9654-ecc778951859"
      },
      "execution_count": null,
      "outputs": [
        {
          "output_type": "display_data",
          "data": {
            "image/png": "[encoded data removed]",
            "text/plain": [
              "<Figure size 432x288 with 1 Axes>"
            ]
          },
          "metadata": {
            "needs_background": "light"
          }
        }
      ]
    },
    {
      "cell_type": "code",
      "source": [
        "fpr, tpr, threshold = roc_curve(validation_set['label'], predictions)\n",
        "roc_auc = auc(fpr, tpr)\n",
        "\n",
        "plt.title('Receiver Operating Characteristic')\n",
        "plt.plot(fpr, tpr, 'b', label = 'AUC = %0.2f' % roc_auc)\n",
        "plt.legend(loc = 'lower right')\n",
        "plt.plot([0, 1], [0, 1],'r--')\n",
        "plt.xlim([0, 1])\n",
        "plt.ylim([0, 1])\n",
        "plt.ylabel('True Positive Rate')\n",
        "plt.xlabel('False Positive Rate')\n",
        "plt.show()"
      ],
      "metadata": {
        "colab": {
          "base_uri": "https://localhost:8080/",
          "height": 295
        },
        "id": "m_cFA0G5_hgF",
        "outputId": "1414c548-3cc6-4c58-ea0e-800bf4a76278"
      },
      "execution_count": null,
      "outputs": [
        {
          "output_type": "display_data",
          "data": {
            "image/png": "[encoded data removed]",
            "text/plain": [
              "<Figure size 432x288 with 1 Axes>"
            ]
          },
          "metadata": {
            "needs_background": "light"
          }
        }
      ]
    }
  ]
}