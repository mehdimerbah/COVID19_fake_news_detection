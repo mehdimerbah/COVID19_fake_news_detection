{
  "nbformat": 4,
  "nbformat_minor": 0,
  "metadata": {
    "colab": {
      "name": "LSTM.ipynb",
      "provenance": [],
      "collapsed_sections": [],
      "authorship_tag": "ABX9TyNDiWrVUrzEvtOXXy2+MP8a",
      "include_colab_link": true
    },
    "kernelspec": {
      "name": "python3",
      "display_name": "Python 3"
    },
    "language_info": {
      "name": "python"
    }
  },
  "cells": [
    {
      "cell_type": "markdown",
      "metadata": {
        "id": "view-in-github",
        "colab_type": "text"
      },
      "source": [
        "<a href=\"https://colab.research.google.com/github/mehdimerbah/COVID19_fake_news_detection/blob/main/models/LSTM.ipynb\" target=\"_parent\"><img src=\"https://colab.research.google.com/assets/colab-badge.svg\" alt=\"Open In Colab\"/></a>"
      ]
    },
    {
      "cell_type": "markdown",
      "metadata": {
        "id": "FllBevo_SoHP"
      },
      "source": [
        "# Library and Data Import"
      ]
    },
    {
      "cell_type": "code",
      "metadata": {
        "id": "lxYwpeS6zsV8"
      },
      "source": [
        "import pandas as pd\n",
        "import numpy as np\n",
        "import matplotlib.pyplot as plt\n",
        "\n",
        "from sklearn.metrics import classification_report, accuracy_score, precision_score, recall_score, f1_score\n",
        "from tensorflow.keras.layers import Embedding\n",
        "from tensorflow.keras.models import Sequential\n",
        "from tensorflow.keras.preprocessing.sequence import pad_sequences\n",
        "from tensorflow.keras.preprocessing.text import one_hot\n",
        "from tensorflow.keras.layers import LSTM, Dense\n",
        "import json"
      ],
      "execution_count": null,
      "outputs": []
    },
    {
      "cell_type": "code",
      "metadata": {
        "id": "-8hS3MR6S-A3"
      },
      "source": [
        "dataset = pd.read_csv('https://raw.githubusercontent.com/mehdimerbah/COVID19_fake_news_detection/main/preprocessing/whole_processed_data.csv')"
      ],
      "execution_count": null,
      "outputs": []
    },
    {
      "cell_type": "markdown",
      "metadata": {
        "id": "anJZ6IXxiD9I"
      },
      "source": [
        "# One-Hot Data Representation\n",
        "TBD:    \n",
        "- [ ] Add one hot representation explanation   \n",
        "- [ ] Explain embedding     \n",
        "- [ ] Explain padding for the matrix    "
      ]
    },
    {
      "cell_type": "code",
      "metadata": {
        "id": "SXVhBKmWTORJ"
      },
      "source": [
        "oh_representation = [one_hot(terms, 5000) for terms in dataset['tweet']]"
      ],
      "execution_count": null,
      "outputs": []
    },
    {
      "cell_type": "code",
      "metadata": {
        "id": "EE5zV7qgTfHr"
      },
      "source": [
        "sentence_len = 400\n",
        "embedded_data = pad_sequences(oh_representation, padding='pre', maxlen= sentence_len)"
      ],
      "execution_count": null,
      "outputs": []
    },
    {
      "cell_type": "code",
      "metadata": {
        "colab": {
          "base_uri": "https://localhost:8080/"
        },
        "id": "TK5ObpcDTusl",
        "outputId": "f5f63509-f311-4c51-dae3-1adef1be016c"
      },
      "source": [
        "embedded_data[:5]"
      ],
      "execution_count": null,
      "outputs": [
        {
          "output_type": "execute_result",
          "data": {
            "text/plain": [
              "array([[   0,    0,    0, ..., 4424, 2850, 4175],\n",
              "       [   0,    0,    0, ..., 2683, 1996, 4697],\n",
              "       [   0,    0,    0, ..., 3009, 3460, 3711],\n",
              "       [   0,    0,    0, ..., 1152, 2158, 2635],\n",
              "       [   0,    0,    0, ..., 3972, 1490, 4541]], dtype=int32)"
            ]
          },
          "metadata": {},
          "execution_count": 8
        }
      ]
    },
    {
      "cell_type": "code",
      "metadata": {
        "colab": {
          "base_uri": "https://localhost:8080/",
          "height": 256
        },
        "id": "Q1xrubt1T10X",
        "outputId": "e3a4f1f7-5baf-4717-a7b7-560df8e22557"
      },
      "source": [
        "# For easier manipulation I will transform the 2D array into a pandas DataFrame\n",
        "embedded_DF = pd.DataFrame(embedded_data)\n",
        "# Adding one column for the class labels to the DF\n",
        "embedded_DF['label'] = dataset['label']\n",
        "# Converting the lables from (real/fake) strings to (1/0)\n",
        "embedded_DF['label'] = embedded_DF.label.eq('real').mul(1)\n",
        "\n",
        "# Data Splitting\n",
        "training_set = embedded_DF.iloc[:6420]\n",
        "validation_set = embedded_DF.iloc[6420:8560]\n",
        "testing_set = embedded_DF.iloc[8560:]\n",
        "embedded_DF.head()"
      ],
      "execution_count": null,
      "outputs": [
        {
          "output_type": "execute_result",
          "data": {
            "text/html": [
              "<div>\n",
              "<style scoped>\n",
              "    .dataframe tbody tr th:only-of-type {\n",
              "        vertical-align: middle;\n",
              "    }\n",
              "\n",
              "    .dataframe tbody tr th {\n",
              "        vertical-align: top;\n",
              "    }\n",
              "\n",
              "    .dataframe thead th {\n",
              "        text-align: right;\n",
              "    }\n",
              "</style>\n",
              "<table border=\"1\" class=\"dataframe\">\n",
              "  <thead>\n",
              "    <tr style=\"text-align: right;\">\n",
              "      <th></th>\n",
              "      <th>0</th>\n",
              "      <th>1</th>\n",
              "      <th>2</th>\n",
              "      <th>3</th>\n",
              "      <th>4</th>\n",
              "      <th>5</th>\n",
              "      <th>6</th>\n",
              "      <th>7</th>\n",
              "      <th>8</th>\n",
              "      <th>9</th>\n",
              "      <th>10</th>\n",
              "      <th>11</th>\n",
              "      <th>12</th>\n",
              "      <th>13</th>\n",
              "      <th>14</th>\n",
              "      <th>15</th>\n",
              "      <th>16</th>\n",
              "      <th>17</th>\n",
              "      <th>18</th>\n",
              "      <th>19</th>\n",
              "      <th>20</th>\n",
              "      <th>21</th>\n",
              "      <th>22</th>\n",
              "      <th>23</th>\n",
              "      <th>24</th>\n",
              "      <th>25</th>\n",
              "      <th>26</th>\n",
              "      <th>27</th>\n",
              "      <th>28</th>\n",
              "      <th>29</th>\n",
              "      <th>30</th>\n",
              "      <th>31</th>\n",
              "      <th>32</th>\n",
              "      <th>33</th>\n",
              "      <th>34</th>\n",
              "      <th>35</th>\n",
              "      <th>36</th>\n",
              "      <th>37</th>\n",
              "      <th>38</th>\n",
              "      <th>39</th>\n",
              "      <th>...</th>\n",
              "      <th>361</th>\n",
              "      <th>362</th>\n",
              "      <th>363</th>\n",
              "      <th>364</th>\n",
              "      <th>365</th>\n",
              "      <th>366</th>\n",
              "      <th>367</th>\n",
              "      <th>368</th>\n",
              "      <th>369</th>\n",
              "      <th>370</th>\n",
              "      <th>371</th>\n",
              "      <th>372</th>\n",
              "      <th>373</th>\n",
              "      <th>374</th>\n",
              "      <th>375</th>\n",
              "      <th>376</th>\n",
              "      <th>377</th>\n",
              "      <th>378</th>\n",
              "      <th>379</th>\n",
              "      <th>380</th>\n",
              "      <th>381</th>\n",
              "      <th>382</th>\n",
              "      <th>383</th>\n",
              "      <th>384</th>\n",
              "      <th>385</th>\n",
              "      <th>386</th>\n",
              "      <th>387</th>\n",
              "      <th>388</th>\n",
              "      <th>389</th>\n",
              "      <th>390</th>\n",
              "      <th>391</th>\n",
              "      <th>392</th>\n",
              "      <th>393</th>\n",
              "      <th>394</th>\n",
              "      <th>395</th>\n",
              "      <th>396</th>\n",
              "      <th>397</th>\n",
              "      <th>398</th>\n",
              "      <th>399</th>\n",
              "      <th>label</th>\n",
              "    </tr>\n",
              "  </thead>\n",
              "  <tbody>\n",
              "    <tr>\n",
              "      <th>0</th>\n",
              "      <td>0</td>\n",
              "      <td>0</td>\n",
              "      <td>0</td>\n",
              "      <td>0</td>\n",
              "      <td>0</td>\n",
              "      <td>0</td>\n",
              "      <td>0</td>\n",
              "      <td>0</td>\n",
              "      <td>0</td>\n",
              "      <td>0</td>\n",
              "      <td>0</td>\n",
              "      <td>0</td>\n",
              "      <td>0</td>\n",
              "      <td>0</td>\n",
              "      <td>0</td>\n",
              "      <td>0</td>\n",
              "      <td>0</td>\n",
              "      <td>0</td>\n",
              "      <td>0</td>\n",
              "      <td>0</td>\n",
              "      <td>0</td>\n",
              "      <td>0</td>\n",
              "      <td>0</td>\n",
              "      <td>0</td>\n",
              "      <td>0</td>\n",
              "      <td>0</td>\n",
              "      <td>0</td>\n",
              "      <td>0</td>\n",
              "      <td>0</td>\n",
              "      <td>0</td>\n",
              "      <td>0</td>\n",
              "      <td>0</td>\n",
              "      <td>0</td>\n",
              "      <td>0</td>\n",
              "      <td>0</td>\n",
              "      <td>0</td>\n",
              "      <td>0</td>\n",
              "      <td>0</td>\n",
              "      <td>0</td>\n",
              "      <td>0</td>\n",
              "      <td>...</td>\n",
              "      <td>0</td>\n",
              "      <td>0</td>\n",
              "      <td>0</td>\n",
              "      <td>0</td>\n",
              "      <td>0</td>\n",
              "      <td>0</td>\n",
              "      <td>0</td>\n",
              "      <td>0</td>\n",
              "      <td>0</td>\n",
              "      <td>0</td>\n",
              "      <td>0</td>\n",
              "      <td>0</td>\n",
              "      <td>0</td>\n",
              "      <td>0</td>\n",
              "      <td>0</td>\n",
              "      <td>0</td>\n",
              "      <td>0</td>\n",
              "      <td>0</td>\n",
              "      <td>0</td>\n",
              "      <td>2587</td>\n",
              "      <td>648</td>\n",
              "      <td>4712</td>\n",
              "      <td>4268</td>\n",
              "      <td>4697</td>\n",
              "      <td>3023</td>\n",
              "      <td>3294</td>\n",
              "      <td>4801</td>\n",
              "      <td>3994</td>\n",
              "      <td>2201</td>\n",
              "      <td>4111</td>\n",
              "      <td>3564</td>\n",
              "      <td>707</td>\n",
              "      <td>4801</td>\n",
              "      <td>4075</td>\n",
              "      <td>2460</td>\n",
              "      <td>4207</td>\n",
              "      <td>4424</td>\n",
              "      <td>2850</td>\n",
              "      <td>4175</td>\n",
              "      <td>1</td>\n",
              "    </tr>\n",
              "    <tr>\n",
              "      <th>1</th>\n",
              "      <td>0</td>\n",
              "      <td>0</td>\n",
              "      <td>0</td>\n",
              "      <td>0</td>\n",
              "      <td>0</td>\n",
              "      <td>0</td>\n",
              "      <td>0</td>\n",
              "      <td>0</td>\n",
              "      <td>0</td>\n",
              "      <td>0</td>\n",
              "      <td>0</td>\n",
              "      <td>0</td>\n",
              "      <td>0</td>\n",
              "      <td>0</td>\n",
              "      <td>0</td>\n",
              "      <td>0</td>\n",
              "      <td>0</td>\n",
              "      <td>0</td>\n",
              "      <td>0</td>\n",
              "      <td>0</td>\n",
              "      <td>0</td>\n",
              "      <td>0</td>\n",
              "      <td>0</td>\n",
              "      <td>0</td>\n",
              "      <td>0</td>\n",
              "      <td>0</td>\n",
              "      <td>0</td>\n",
              "      <td>0</td>\n",
              "      <td>0</td>\n",
              "      <td>0</td>\n",
              "      <td>0</td>\n",
              "      <td>0</td>\n",
              "      <td>0</td>\n",
              "      <td>0</td>\n",
              "      <td>0</td>\n",
              "      <td>0</td>\n",
              "      <td>0</td>\n",
              "      <td>0</td>\n",
              "      <td>0</td>\n",
              "      <td>0</td>\n",
              "      <td>...</td>\n",
              "      <td>0</td>\n",
              "      <td>0</td>\n",
              "      <td>0</td>\n",
              "      <td>0</td>\n",
              "      <td>0</td>\n",
              "      <td>0</td>\n",
              "      <td>0</td>\n",
              "      <td>0</td>\n",
              "      <td>0</td>\n",
              "      <td>0</td>\n",
              "      <td>0</td>\n",
              "      <td>0</td>\n",
              "      <td>0</td>\n",
              "      <td>0</td>\n",
              "      <td>0</td>\n",
              "      <td>0</td>\n",
              "      <td>0</td>\n",
              "      <td>0</td>\n",
              "      <td>0</td>\n",
              "      <td>0</td>\n",
              "      <td>0</td>\n",
              "      <td>0</td>\n",
              "      <td>0</td>\n",
              "      <td>0</td>\n",
              "      <td>0</td>\n",
              "      <td>0</td>\n",
              "      <td>4192</td>\n",
              "      <td>2683</td>\n",
              "      <td>1944</td>\n",
              "      <td>4697</td>\n",
              "      <td>3564</td>\n",
              "      <td>2597</td>\n",
              "      <td>2538</td>\n",
              "      <td>2255</td>\n",
              "      <td>1726</td>\n",
              "      <td>4192</td>\n",
              "      <td>2683</td>\n",
              "      <td>1996</td>\n",
              "      <td>4697</td>\n",
              "      <td>1</td>\n",
              "    </tr>\n",
              "    <tr>\n",
              "      <th>2</th>\n",
              "      <td>0</td>\n",
              "      <td>0</td>\n",
              "      <td>0</td>\n",
              "      <td>0</td>\n",
              "      <td>0</td>\n",
              "      <td>0</td>\n",
              "      <td>0</td>\n",
              "      <td>0</td>\n",
              "      <td>0</td>\n",
              "      <td>0</td>\n",
              "      <td>0</td>\n",
              "      <td>0</td>\n",
              "      <td>0</td>\n",
              "      <td>0</td>\n",
              "      <td>0</td>\n",
              "      <td>0</td>\n",
              "      <td>0</td>\n",
              "      <td>0</td>\n",
              "      <td>0</td>\n",
              "      <td>0</td>\n",
              "      <td>0</td>\n",
              "      <td>0</td>\n",
              "      <td>0</td>\n",
              "      <td>0</td>\n",
              "      <td>0</td>\n",
              "      <td>0</td>\n",
              "      <td>0</td>\n",
              "      <td>0</td>\n",
              "      <td>0</td>\n",
              "      <td>0</td>\n",
              "      <td>0</td>\n",
              "      <td>0</td>\n",
              "      <td>0</td>\n",
              "      <td>0</td>\n",
              "      <td>0</td>\n",
              "      <td>0</td>\n",
              "      <td>0</td>\n",
              "      <td>0</td>\n",
              "      <td>0</td>\n",
              "      <td>0</td>\n",
              "      <td>...</td>\n",
              "      <td>0</td>\n",
              "      <td>0</td>\n",
              "      <td>0</td>\n",
              "      <td>0</td>\n",
              "      <td>0</td>\n",
              "      <td>0</td>\n",
              "      <td>0</td>\n",
              "      <td>0</td>\n",
              "      <td>0</td>\n",
              "      <td>0</td>\n",
              "      <td>0</td>\n",
              "      <td>0</td>\n",
              "      <td>0</td>\n",
              "      <td>0</td>\n",
              "      <td>0</td>\n",
              "      <td>0</td>\n",
              "      <td>0</td>\n",
              "      <td>0</td>\n",
              "      <td>0</td>\n",
              "      <td>0</td>\n",
              "      <td>0</td>\n",
              "      <td>0</td>\n",
              "      <td>0</td>\n",
              "      <td>0</td>\n",
              "      <td>0</td>\n",
              "      <td>0</td>\n",
              "      <td>0</td>\n",
              "      <td>657</td>\n",
              "      <td>3332</td>\n",
              "      <td>1352</td>\n",
              "      <td>3648</td>\n",
              "      <td>1575</td>\n",
              "      <td>3676</td>\n",
              "      <td>751</td>\n",
              "      <td>1963</td>\n",
              "      <td>2466</td>\n",
              "      <td>3009</td>\n",
              "      <td>3460</td>\n",
              "      <td>3711</td>\n",
              "      <td>0</td>\n",
              "    </tr>\n",
              "    <tr>\n",
              "      <th>3</th>\n",
              "      <td>0</td>\n",
              "      <td>0</td>\n",
              "      <td>0</td>\n",
              "      <td>0</td>\n",
              "      <td>0</td>\n",
              "      <td>0</td>\n",
              "      <td>0</td>\n",
              "      <td>0</td>\n",
              "      <td>0</td>\n",
              "      <td>0</td>\n",
              "      <td>0</td>\n",
              "      <td>0</td>\n",
              "      <td>0</td>\n",
              "      <td>0</td>\n",
              "      <td>0</td>\n",
              "      <td>0</td>\n",
              "      <td>0</td>\n",
              "      <td>0</td>\n",
              "      <td>0</td>\n",
              "      <td>0</td>\n",
              "      <td>0</td>\n",
              "      <td>0</td>\n",
              "      <td>0</td>\n",
              "      <td>0</td>\n",
              "      <td>0</td>\n",
              "      <td>0</td>\n",
              "      <td>0</td>\n",
              "      <td>0</td>\n",
              "      <td>0</td>\n",
              "      <td>0</td>\n",
              "      <td>0</td>\n",
              "      <td>0</td>\n",
              "      <td>0</td>\n",
              "      <td>0</td>\n",
              "      <td>0</td>\n",
              "      <td>0</td>\n",
              "      <td>0</td>\n",
              "      <td>0</td>\n",
              "      <td>0</td>\n",
              "      <td>0</td>\n",
              "      <td>...</td>\n",
              "      <td>0</td>\n",
              "      <td>0</td>\n",
              "      <td>0</td>\n",
              "      <td>0</td>\n",
              "      <td>0</td>\n",
              "      <td>0</td>\n",
              "      <td>0</td>\n",
              "      <td>0</td>\n",
              "      <td>0</td>\n",
              "      <td>0</td>\n",
              "      <td>0</td>\n",
              "      <td>0</td>\n",
              "      <td>0</td>\n",
              "      <td>0</td>\n",
              "      <td>0</td>\n",
              "      <td>0</td>\n",
              "      <td>0</td>\n",
              "      <td>0</td>\n",
              "      <td>0</td>\n",
              "      <td>0</td>\n",
              "      <td>0</td>\n",
              "      <td>0</td>\n",
              "      <td>3621</td>\n",
              "      <td>4703</td>\n",
              "      <td>2266</td>\n",
              "      <td>1490</td>\n",
              "      <td>449</td>\n",
              "      <td>2480</td>\n",
              "      <td>291</td>\n",
              "      <td>882</td>\n",
              "      <td>4064</td>\n",
              "      <td>2235</td>\n",
              "      <td>2127</td>\n",
              "      <td>2437</td>\n",
              "      <td>4742</td>\n",
              "      <td>1849</td>\n",
              "      <td>1152</td>\n",
              "      <td>2158</td>\n",
              "      <td>2635</td>\n",
              "      <td>1</td>\n",
              "    </tr>\n",
              "    <tr>\n",
              "      <th>4</th>\n",
              "      <td>0</td>\n",
              "      <td>0</td>\n",
              "      <td>0</td>\n",
              "      <td>0</td>\n",
              "      <td>0</td>\n",
              "      <td>0</td>\n",
              "      <td>0</td>\n",
              "      <td>0</td>\n",
              "      <td>0</td>\n",
              "      <td>0</td>\n",
              "      <td>0</td>\n",
              "      <td>0</td>\n",
              "      <td>0</td>\n",
              "      <td>0</td>\n",
              "      <td>0</td>\n",
              "      <td>0</td>\n",
              "      <td>0</td>\n",
              "      <td>0</td>\n",
              "      <td>0</td>\n",
              "      <td>0</td>\n",
              "      <td>0</td>\n",
              "      <td>0</td>\n",
              "      <td>0</td>\n",
              "      <td>0</td>\n",
              "      <td>0</td>\n",
              "      <td>0</td>\n",
              "      <td>0</td>\n",
              "      <td>0</td>\n",
              "      <td>0</td>\n",
              "      <td>0</td>\n",
              "      <td>0</td>\n",
              "      <td>0</td>\n",
              "      <td>0</td>\n",
              "      <td>0</td>\n",
              "      <td>0</td>\n",
              "      <td>0</td>\n",
              "      <td>0</td>\n",
              "      <td>0</td>\n",
              "      <td>0</td>\n",
              "      <td>0</td>\n",
              "      <td>...</td>\n",
              "      <td>0</td>\n",
              "      <td>0</td>\n",
              "      <td>0</td>\n",
              "      <td>0</td>\n",
              "      <td>0</td>\n",
              "      <td>0</td>\n",
              "      <td>0</td>\n",
              "      <td>0</td>\n",
              "      <td>0</td>\n",
              "      <td>4338</td>\n",
              "      <td>4192</td>\n",
              "      <td>858</td>\n",
              "      <td>1546</td>\n",
              "      <td>1209</td>\n",
              "      <td>3994</td>\n",
              "      <td>1924</td>\n",
              "      <td>2132</td>\n",
              "      <td>4235</td>\n",
              "      <td>2542</td>\n",
              "      <td>69</td>\n",
              "      <td>4175</td>\n",
              "      <td>3845</td>\n",
              "      <td>1667</td>\n",
              "      <td>4192</td>\n",
              "      <td>3186</td>\n",
              "      <td>4235</td>\n",
              "      <td>2542</td>\n",
              "      <td>69</td>\n",
              "      <td>658</td>\n",
              "      <td>4458</td>\n",
              "      <td>1063</td>\n",
              "      <td>3818</td>\n",
              "      <td>4362</td>\n",
              "      <td>328</td>\n",
              "      <td>4511</td>\n",
              "      <td>1982</td>\n",
              "      <td>3972</td>\n",
              "      <td>1490</td>\n",
              "      <td>4541</td>\n",
              "      <td>1</td>\n",
              "    </tr>\n",
              "  </tbody>\n",
              "</table>\n",
              "<p>5 rows × 401 columns</p>\n",
              "</div>"
            ],
            "text/plain": [
              "   0  1  2  3  4  5  6  7  ...   393   394   395   396   397   398   399  label\n",
              "0  0  0  0  0  0  0  0  0  ...  4801  4075  2460  4207  4424  2850  4175      1\n",
              "1  0  0  0  0  0  0  0  0  ...  2538  2255  1726  4192  2683  1996  4697      1\n",
              "2  0  0  0  0  0  0  0  0  ...  3676   751  1963  2466  3009  3460  3711      0\n",
              "3  0  0  0  0  0  0  0  0  ...  2127  2437  4742  1849  1152  2158  2635      1\n",
              "4  0  0  0  0  0  0  0  0  ...  4362   328  4511  1982  3972  1490  4541      1\n",
              "\n",
              "[5 rows x 401 columns]"
            ]
          },
          "metadata": {},
          "execution_count": 58
        }
      ]
    },
    {
      "cell_type": "markdown",
      "metadata": {
        "id": "RpCBIXiOjnmA"
      },
      "source": [
        "# Building the Model"
      ]
    },
    {
      "cell_type": "markdown",
      "metadata": {
        "id": "3lvU83WupgWt"
      },
      "source": [
        "TBD: \n",
        "- [ ] Elaborate on sequential models     \n",
        "- [ ] Why did we choose 5000 word embedding ?\n",
        "- [ ] Sigmoid vs tanh ?    \n",
        "- [ ] Highlight optimizer and explain that the other metrics are added to results    \n",
        "- [ ] Describe the model (params, layers, activation functions)"
      ]
    },
    {
      "cell_type": "code",
      "metadata": {
        "colab": {
          "base_uri": "https://localhost:8080/"
        },
        "id": "nCW8_GJlVf2A",
        "outputId": "1b14bbef-4008-4b73-82a6-1a5b6026cf81"
      },
      "source": [
        "# initializing model\n",
        "model = Sequential()\n",
        "# adding embedding layer\n",
        "model.add(Embedding(5000, 100, input_length=sentence_len))\n",
        "model.add(LSTM(150))\n",
        "model.add(Dense(1, activation='sigmoid'))\n",
        "model.compile(loss='binary_crossentropy', optimizer='adam', metrics=['accuracy'])\n",
        "model.summary()"
      ],
      "execution_count": null,
      "outputs": [
        {
          "output_type": "stream",
          "name": "stdout",
          "text": [
            "Model: \"sequential_2\"\n",
            "_________________________________________________________________\n",
            " Layer (type)                Output Shape              Param #   \n",
            "=================================================================\n",
            " embedding_1 (Embedding)     (None, 400, 100)          500000    \n",
            "                                                                 \n",
            " lstm_1 (LSTM)               (None, 150)               150600    \n",
            "                                                                 \n",
            " dense_1 (Dense)             (None, 1)                 151       \n",
            "                                                                 \n",
            "=================================================================\n",
            "Total params: 650,751\n",
            "Trainable params: 650,751\n",
            "Non-trainable params: 0\n",
            "_________________________________________________________________\n"
          ]
        }
      ]
    },
    {
      "cell_type": "code",
      "metadata": {
        "colab": {
          "base_uri": "https://localhost:8080/"
        },
        "id": "DtCQiaIDV9eJ",
        "outputId": "abaed849-a66e-4e30-eb52-0bf9aafad8f2"
      },
      "source": [
        "model_history = model.fit(training_set.iloc[:,:400], training_set.iloc[:,400], validation_data=(validation_set.iloc[:,:400], validation_set.iloc[:,400] ), epochs=10, batch_size=64)"
      ],
      "execution_count": null,
      "outputs": [
        {
          "output_type": "stream",
          "name": "stdout",
          "text": [
            "Epoch 1/10\n",
            "101/101 [==============================] - 111s 1s/step - loss: 0.3815 - accuracy: 0.8282 - val_loss: 0.2182 - val_accuracy: 0.9103\n",
            "Epoch 2/10\n",
            "101/101 [==============================] - 108s 1s/step - loss: 0.1472 - accuracy: 0.9456 - val_loss: 0.2416 - val_accuracy: 0.9000\n",
            "Epoch 3/10\n",
            "101/101 [==============================] - 108s 1s/step - loss: 0.1196 - accuracy: 0.9687 - val_loss: 0.2332 - val_accuracy: 0.9145\n",
            "Epoch 4/10\n",
            "101/101 [==============================] - 109s 1s/step - loss: 0.0455 - accuracy: 0.9855 - val_loss: 0.3007 - val_accuracy: 0.9121\n",
            "Epoch 5/10\n",
            "101/101 [==============================] - 109s 1s/step - loss: 0.0326 - accuracy: 0.9905 - val_loss: 0.3161 - val_accuracy: 0.9140\n",
            "Epoch 6/10\n",
            "101/101 [==============================] - 109s 1s/step - loss: 0.0148 - accuracy: 0.9967 - val_loss: 0.3914 - val_accuracy: 0.9042\n",
            "Epoch 7/10\n",
            "101/101 [==============================] - 110s 1s/step - loss: 0.0142 - accuracy: 0.9963 - val_loss: 0.4209 - val_accuracy: 0.8930\n",
            "Epoch 8/10\n",
            "101/101 [==============================] - 109s 1s/step - loss: 0.0121 - accuracy: 0.9966 - val_loss: 0.4506 - val_accuracy: 0.8991\n",
            "Epoch 9/10\n",
            "101/101 [==============================] - 108s 1s/step - loss: 0.0059 - accuracy: 0.9989 - val_loss: 0.5222 - val_accuracy: 0.8981\n",
            "Epoch 10/10\n",
            "101/101 [==============================] - 109s 1s/step - loss: 0.0024 - accuracy: 0.9997 - val_loss: 0.5220 - val_accuracy: 0.8991\n"
          ]
        }
      ]
    },
    {
      "cell_type": "code",
      "metadata": {
        "colab": {
          "base_uri": "https://localhost:8080/"
        },
        "id": "84eIpYmoXVHd",
        "outputId": "7d0fe086-48e0-4a54-b256-e4455e30aab6"
      },
      "source": [
        "# Now we can use the model to make some predictions.\n",
        "## The predictions values are squeezed between 0 and 1 by the sigmoid activation \n",
        "## We need to convert them to 1 or 0, to fit the classes\n",
        "predictions = model.predict(validation_set.iloc[:,:400])\n",
        "predictions[:5]"
      ],
      "execution_count": null,
      "outputs": [
        {
          "output_type": "execute_result",
          "data": {
            "text/plain": [
              "array([[1.9494952e-05],\n",
              "       [9.9897122e-01],\n",
              "       [3.5098195e-04],\n",
              "       [7.4055833e-06],\n",
              "       [9.9991858e-01]], dtype=float32)"
            ]
          },
          "metadata": {},
          "execution_count": 59
        }
      ]
    },
    {
      "cell_type": "code",
      "metadata": {
        "colab": {
          "base_uri": "https://localhost:8080/"
        },
        "id": "px2LQyZjeAUv",
        "outputId": "7a9c0e6e-9112-4c05-eb64-fbe7c92d8cea"
      },
      "source": [
        "# To convert the values, we simply compare to 0.5 and round it\n",
        "predictions = (predictions > 0.5).astype(\"int32\")\n",
        "predictions"
      ],
      "execution_count": null,
      "outputs": [
        {
          "output_type": "execute_result",
          "data": {
            "text/plain": [
              "array([[0],\n",
              "       [1],\n",
              "       [0],\n",
              "       ...,\n",
              "       [0],\n",
              "       [0],\n",
              "       [1]], dtype=int32)"
            ]
          },
          "metadata": {},
          "execution_count": 62
        }
      ]
    },
    {
      "cell_type": "markdown",
      "metadata": {
        "id": "7QX5orTQoaKO"
      },
      "source": [
        "# Results"
      ]
    },
    {
      "cell_type": "code",
      "metadata": {
        "colab": {
          "base_uri": "https://localhost:8080/"
        },
        "id": "RIW7UBQhorPE",
        "outputId": "47b03ad6-1ee7-462f-b0ef-b0a1a455b286"
      },
      "source": [
        "print(classification_report(validation_set['label'], predictions))"
      ],
      "execution_count": null,
      "outputs": [
        {
          "output_type": "stream",
          "name": "stdout",
          "text": [
            "              precision    recall  f1-score   support\n",
            "\n",
            "           0       0.89      0.89      0.89      1020\n",
            "           1       0.90      0.90      0.90      1120\n",
            "\n",
            "    accuracy                           0.90      2140\n",
            "   macro avg       0.90      0.90      0.90      2140\n",
            "weighted avg       0.90      0.90      0.90      2140\n",
            "\n"
          ]
        }
      ]
    },
    {
      "cell_type": "code",
      "metadata": {
        "colab": {
          "base_uri": "https://localhost:8080/"
        },
        "id": "32W9nRLNfEUN",
        "outputId": "39bcf1d8-52ce-4fb6-c372-173ec05f9ff9"
      },
      "source": [
        "round(accuracy_score(validation_set['label'], predictions), 5)"
      ],
      "execution_count": null,
      "outputs": [
        {
          "output_type": "execute_result",
          "data": {
            "text/plain": [
              "0.89907"
            ]
          },
          "metadata": {},
          "execution_count": 70
        }
      ]
    },
    {
      "cell_type": "code",
      "metadata": {
        "id": "QZahqCRzlzm7"
      },
      "source": [
        "def get_metrics(predicted,true):\n",
        "    metrics = dict()\n",
        "    metrics['accuracy'] = round(accuracy_score(predicted, true), 5)\n",
        "    metrics['precision'] = round(precision_score(predicted, true, average = 'weighted'), 5)\n",
        "    metrics['recall'] = round(recall_score(predicted, true, average = 'weighted'), 5)\n",
        "    metrics['f1'] = round(f1_score(predicted, true, average = 'weighted'), 5)\n",
        "    \n",
        "    return metrics\n",
        "    "
      ],
      "execution_count": null,
      "outputs": []
    },
    {
      "cell_type": "code",
      "metadata": {
        "colab": {
          "base_uri": "https://localhost:8080/"
        },
        "id": "CJwedwG1l0Jj",
        "outputId": "7e1605cb-1cc2-49f0-d339-83897794cdbe"
      },
      "source": [
        "metrics = get_metrics(predictions, validation_set['label'])\n",
        "print(metrics)"
      ],
      "execution_count": null,
      "outputs": [
        {
          "output_type": "stream",
          "name": "stdout",
          "text": [
            "{'accuracy': 0.89907, 'precision': 0.89907, 'recall': 0.89907, 'f1': 0.89907}\n"
          ]
        }
      ]
    },
    {
      "cell_type": "code",
      "metadata": {
        "id": "wylbkFhvl49-"
      },
      "source": [
        "with open(\"LSTM_results.json\", \"w\") as output:\n",
        "    json.dump(metrics, output)"
      ],
      "execution_count": null,
      "outputs": []
    }
  ]
}