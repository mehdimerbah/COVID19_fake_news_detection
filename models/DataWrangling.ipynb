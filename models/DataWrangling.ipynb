{
  "nbformat": 4,
  "nbformat_minor": 0,
  "metadata": {
    "colab": {
      "name": "DataWrangling.ipynb",
      "provenance": [],
      "collapsed_sections": [],
      "authorship_tag": "ABX9TyMVfqZsdSc4D0RLNOznnHCP",
      "include_colab_link": true
    },
    "kernelspec": {
      "name": "python3",
      "display_name": "Python 3"
    },
    "language_info": {
      "name": "python"
    }
  },
  "cells": [
    {
      "cell_type": "markdown",
      "metadata": {
        "id": "view-in-github",
        "colab_type": "text"
      },
      "source": [
        "<a href=\"https://colab.research.google.com/github/mehdimerbah/COVID19_fake_news_detection/blob/main/models/DataWrangling.ipynb\" target=\"_parent\"><img src=\"https://colab.research.google.com/assets/colab-badge.svg\" alt=\"Open In Colab\"/></a>"
      ]
    },
    {
      "cell_type": "markdown",
      "metadata": {
        "id": "xbrhulobd8QD"
      },
      "source": [
        "# Library and Data Import\n"
      ]
    },
    {
      "cell_type": "code",
      "metadata": {
        "colab": {
          "base_uri": "https://localhost:8080/"
        },
        "id": "YU0UIHlE9uau",
        "outputId": "410beca7-86aa-43d9-a19b-2cbaf95d8b27"
      },
      "source": [
        "import pandas as pd\n",
        "import numpy as np\n",
        "import matplotlib.pyplot as plt\n",
        "import re\n",
        "import nltk\n",
        "nltk.download('stopwords')\n",
        "from nltk.corpus import stopwords\n",
        "stopwords = set(stopwords.words('english'))"
      ],
      "execution_count": 1,
      "outputs": [
        {
          "output_type": "stream",
          "name": "stdout",
          "text": [
            "[nltk_data] Downloading package stopwords to /root/nltk_data...\n",
            "[nltk_data]   Unzipping corpora/stopwords.zip.\n"
          ]
        }
      ]
    },
    {
      "cell_type": "code",
      "metadata": {
        "id": "WBIbpfxLAtdM"
      },
      "source": [
        "# Importing the datasets\n",
        "training_data = pd.read_csv('https://raw.githubusercontent.com/mehdimerbah/COVID19_fake_news_detection/main/data/train_data.csv')\n",
        "testing_data = pd.read_csv('https://raw.githubusercontent.com/mehdimerbah/COVID19_fake_news_detection/main/data/test_data.csv')\n",
        "validation_data = pd.read_csv('https://raw.githubusercontent.com/mehdimerbah/COVID19_fake_news_detection/main/data/validation_data.csv')"
      ],
      "execution_count": 3,
      "outputs": []
    },
    {
      "cell_type": "markdown",
      "metadata": {
        "id": "OtoIe0bLeIPo"
      },
      "source": [
        "# Text processing function\n",
        "Here we create a function that we could apply to all the datasets to remove unecessary characters and stopwords."
      ]
    },
    {
      "cell_type": "code",
      "metadata": {
        "id": "AVIocMQr-Y5o"
      },
      "source": [
        "def preprocess_tweet(tweet):\n",
        "  tmp = tweet.lower().split() # switch all to lower, split by space\n",
        "  tmp = ' '.join(tmp) # join tmp tweet by space\n",
        "  # Now we substitute the tokens with spaces to remove them\n",
        "  tmp = re.sub(r'http(\\S)+', ' ', tmp) \n",
        "  tmp = re.sub(r'www(\\S)+', ' ', tmp)\n",
        "  tmp = re.sub(r'&', ' and', tmp)\n",
        "  tmp = re.sub(r'&amp', ' ', tmp)\n",
        "  tmp = re.sub(r'[^0-9a-zA-Z]+', ' ', tmp)\n",
        "  tmp = tmp.split()\n",
        "  # switch the tmp to list and remove the stopwords \n",
        "  tmp = [word for word in tmp if not (word in stopwords)]\n",
        "  # rejoin list elements by space to get the new processed tweet\n",
        "  tmp = ' '.join(tmp)\n",
        "  return tmp"
      ],
      "execution_count": 2,
      "outputs": []
    },
    {
      "cell_type": "markdown",
      "metadata": {
        "id": "WzR0-tXUfvE0"
      },
      "source": [
        "# Applying our Function\n",
        "We map every tweet to a lambda and assign it to our function."
      ]
    },
    {
      "cell_type": "code",
      "metadata": {
        "id": "P28PghosA0S7"
      },
      "source": [
        "## Using the tweet processing function as a lambda.\n",
        "## Extract all unnecessary tokens and reassign the new value to corresponding tweet\n",
        "training_data['tweet'] = training_data['tweet'].map(lambda x: preprocess_tweet(x))\n",
        "training_data.to_csv('/processed_training_data.csv')\n",
        "\n",
        "testing_data['tweet'] = testing_data['tweet'].map(lambda x: preprocess_tweet(x))\n",
        "testing_data.to_csv('/processed_testing_data.csv')\n",
        "\n",
        "validation_data['tweet'] = validation_data['tweet'].map(lambda x: preprocess_tweet(x))\n",
        "validation_data.to_csv('/processed_validation_data.csv')"
      ],
      "execution_count": null,
      "outputs": []
    },
    {
      "cell_type": "code",
      "metadata": {
        "id": "lJRgJkmAkh-J"
      },
      "source": [
        "## Combine the dataframes into one\n",
        "## Export data to a csv file for portability\n",
        "whole_processed_data = pd.concat([training_data, validation_data, testing_data])\n",
        "whole_processed_data.to_csv('/whole_processed_data.csv')"
      ],
      "execution_count": null,
      "outputs": []
    }
  ]
}