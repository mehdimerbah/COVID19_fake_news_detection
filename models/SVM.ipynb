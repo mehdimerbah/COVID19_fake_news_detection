{
  "nbformat": 4,
  "nbformat_minor": 0,
  "metadata": {
    "colab": {
      "name": "SVM.ipynb",
      "provenance": [],
      "collapsed_sections": [],
      "authorship_tag": "ABX9TyOBsxsUsDrouELdgtY6fAKa",
      "include_colab_link": true
    },
    "kernelspec": {
      "name": "python3",
      "display_name": "Python 3"
    },
    "language_info": {
      "name": "python"
    }
  },
  "cells": [
    {
      "cell_type": "markdown",
      "metadata": {
        "id": "view-in-github",
        "colab_type": "text"
      },
      "source": [
        "<a href=\"https://colab.research.google.com/github/mehdimerbah/COVID19_fake_news_detection/blob/main/models/SVM.ipynb\" target=\"_parent\"><img src=\"https://colab.research.google.com/assets/colab-badge.svg\" alt=\"Open In Colab\"/></a>"
      ]
    },
    {
      "cell_type": "markdown",
      "metadata": {
        "id": "kLp5sPvEfl9U"
      },
      "source": [
        "# Importing Libraries and Data\n",
        "\n"
      ]
    },
    {
      "cell_type": "code",
      "metadata": {
        "id": "b85PssibzLCM"
      },
      "source": [
        "import pandas as pd\n",
        "import numpy as np \n",
        "import matplotlib.pyplot as plt\n",
        "from sklearn.svm import SVC, LinearSVC\n",
        "from sklearn.pipeline import Pipeline\n",
        "from sklearn.feature_extraction.text import CountVectorizer, TfidfTransformer\n",
        "from sklearn.metrics import classification_report, accuracy_score, precision_score, recall_score, f1_score\n",
        "import json"
      ],
      "execution_count": 27,
      "outputs": []
    },
    {
      "cell_type": "code",
      "metadata": {
        "id": "XBO3MspZfuX_"
      },
      "source": [
        "training = pd.read_csv('https://raw.githubusercontent.com/mehdimerbah/COVID19_fake_news_detection/main/preprocessing/processed_training_data.csv')\n",
        "validation = pd.read_csv('https://raw.githubusercontent.com/mehdimerbah/COVID19_fake_news_detection/main/preprocessing/processed_validation_data.csv')\n",
        "testing = pd.read_csv('https://raw.githubusercontent.com/mehdimerbah/COVID19_fake_news_detection/main/preprocessing/processed_testing_data.csv')"
      ],
      "execution_count": 2,
      "outputs": []
    },
    {
      "cell_type": "markdown",
      "metadata": {
        "id": "WKOVcaTNydta"
      },
      "source": [
        "# Feature Extraction\n"
      ]
    },
    {
      "cell_type": "markdown",
      "metadata": {
        "id": "amvdvC4GuglV"
      },
      "source": [
        "## The Count Vectorizer\n",
        "A **_Count Vectorizer_** is a simple approach to tokenize a collection of text documents and build a dictionary of known words in these documents. It basically takes in a text of collection of texts and then encodes every word with a number. we do this by using the `fit()` function on our text."
      ]
    },
    {
      "cell_type": "code",
      "metadata": {
        "colab": {
          "base_uri": "https://localhost:8080/"
        },
        "id": "YucqcgKuiavv",
        "outputId": "a1d6cbc5-ad24-405c-c6d4-98f185798624"
      },
      "source": [
        "count_vectorizer = CountVectorizer()\n",
        "text = ['This is a test to test the vectorizer. We are working on a datamining project project']\n",
        "count_vectorizer.fit(text)\n",
        "print(dict(list(count_vectorizer.vocabulary_.items())[0:10]))"
      ],
      "execution_count": 3,
      "outputs": [
        {
          "output_type": "stream",
          "name": "stdout",
          "text": [
            "{'this': 7, 'is': 2, 'test': 5, 'to': 8, 'the': 6, 'vectorizer': 9, 'we': 10, 'are': 0, 'working': 11, 'on': 3}\n"
          ]
        }
      ]
    },
    {
      "cell_type": "markdown",
      "metadata": {
        "id": "Z-azclZ6xGpp"
      },
      "source": [
        "We can see that we get a dictionary of words and their respective encoding. We say that the `count_vectorizer` has **_learned the text vocabulary_**\n",
        "Now we can use this to transform the text into an array (vector) of word counts. Each word count is stored at the position specified by its unique encoding number we got from the previous step. To do this we use the `transform()` function on the text from our count_vectorizer object."
      ]
    },
    {
      "cell_type": "code",
      "metadata": {
        "colab": {
          "base_uri": "https://localhost:8080/"
        },
        "id": "at4zyOc1x7ei",
        "outputId": "a8919027-e20e-427c-be81-12a79ed835dc"
      },
      "source": [
        "vector = count_vectorizer.transform(text)\n",
        "print(vector.toarray())"
      ],
      "execution_count": 4,
      "outputs": [
        {
          "output_type": "stream",
          "name": "stdout",
          "text": [
            "[[1 1 1 1 2 2 1 1 1 1 1 1]]\n"
          ]
        }
      ]
    },
    {
      "cell_type": "markdown",
      "metadata": {
        "id": "IZ0Rsxm9zl5J"
      },
      "source": [
        "We can see that now we have a vector of wordcounts. All words have a count of **1** except for _test_ and _project_ at positions 4 and 5 respectively that have a count of 2 since they were repeated.\n",
        "\n",
        "Now let's apply this process to our dataset"
      ]
    },
    {
      "cell_type": "code",
      "metadata": {
        "colab": {
          "base_uri": "https://localhost:8080/"
        },
        "id": "4lDgtKC40EBA",
        "outputId": "897b92fb-fcd5-49c6-dd0a-27458443761a"
      },
      "source": [
        "count_vectorizer = CountVectorizer()\n",
        "count_vectorizer.fit(training['tweet'])\n",
        "vectorized = count_vectorizer.transform(training['tweet'])\n",
        "print(dict(list(count_vectorizer.vocabulary_.items())[0:8]))\n",
        "print('The transformed data matrix dimensions:', vectorized.shape)"
      ],
      "execution_count": 5,
      "outputs": [
        {
          "output_type": "stream",
          "name": "stdout",
          "text": [
            "{'cdc': 3547, 'currently': 4561, 'reports': 11073, '99031': 1870, 'deaths': 4682, 'general': 6409, 'discrepancies': 5037, 'death': 4681}\n",
            "The transformed data matrix dimensions: (6420, 14122)\n"
          ]
        }
      ]
    },
    {
      "cell_type": "markdown",
      "metadata": {
        "id": "5nxAXk_e1IEf"
      },
      "source": [
        "So now we have a data matrix for the 6420 (rows) and 14122 distinct words (columns). Each `vectorized[i][j]` entry is a count for the word at the encoded position `j` in the tweet `i`.\n"
      ]
    },
    {
      "cell_type": "markdown",
      "metadata": {
        "id": "BCfbNugdun3y"
      },
      "source": [
        "## TF-IDF Transformer\n"
      ]
    },
    {
      "cell_type": "markdown",
      "metadata": {
        "id": "ELmHLuAN2GRq"
      },
      "source": [
        "The Term Frequency - Inverse Document Frequency transformer gives us two types of count statsitics about the count in our text: \n",
        "**Term Frequency** summarizes how often a word appears in a text.\n",
        "**Inverse Document Frequency** normalizes the word count by checkin the appearance of the word across all the given texts.\n",
        "We can do this transformation using the `fit`, `transform` function sequence. Normally, when using the transformer alone we would have to do the vectorization first using a `TfidfVectorizer` then get a normalized count matrix; but since we have a count matrix `vectorized`, we can just normalize it directly."
      ]
    },
    {
      "cell_type": "code",
      "metadata": {
        "colab": {
          "base_uri": "https://localhost:8080/"
        },
        "id": "JG_b8n8ju9HJ",
        "outputId": "af62e822-79c3-41fb-f061-f747878b254b"
      },
      "source": [
        "tfidf_transformer = TfidfTransformer()\n",
        "tfidf_transformer.fit(vectorized)\n",
        "transformed_tfidf = tfidf_transformer.transform(vectorized)\n",
        "print(transformed_tfidf.shape)"
      ],
      "execution_count": 6,
      "outputs": [
        {
          "output_type": "stream",
          "name": "stdout",
          "text": [
            "(6420, 14122)\n"
          ]
        }
      ]
    },
    {
      "cell_type": "markdown",
      "metadata": {
        "id": "syqVOtDOOajo"
      },
      "source": [
        "Since we will be repeating these steps for both the validation and training data set, we could store them in a `Pipeline` object and fit them over the data set we want. "
      ]
    },
    {
      "cell_type": "code",
      "metadata": {
        "id": "ucbLxWObGCH2"
      },
      "source": [
        "pipeline = Pipeline([\n",
        "        ('count_vectorizer', CountVectorizer()),  \n",
        "        ('tfidf_transformer', TfidfTransformer()),  \n",
        "        ('classifier', LinearSVC())\n",
        "    ])"
      ],
      "execution_count": 7,
      "outputs": []
    },
    {
      "cell_type": "markdown",
      "metadata": {
        "id": "0Z_NzItlQJet"
      },
      "source": [
        "# Model Fitting and Prediction"
      ]
    },
    {
      "cell_type": "markdown",
      "metadata": {
        "id": "yR1FD8qrPisL"
      },
      "source": [
        "The `Pipeline.fit()` function runs both `fit()` and `transform()` functions for the `CountVectorizer` and the `TfidfTransformer` and then fits the classifier. "
      ]
    },
    {
      "cell_type": "code",
      "metadata": {
        "colab": {
          "base_uri": "https://localhost:8080/"
        },
        "id": "BfIEV_8nH6Ea",
        "outputId": "0c582b43-07a5-45b8-b255-b632ce023355"
      },
      "source": [
        "pipeline.fit(training['tweet'], training['label'])\n",
        "prediction = pipeline.predict(validation['tweet'])\n",
        "print(prediction)"
      ],
      "execution_count": 8,
      "outputs": [
        {
          "output_type": "stream",
          "name": "stdout",
          "text": [
            "['fake' 'real' 'fake' ... 'fake' 'real' 'real']\n"
          ]
        }
      ]
    },
    {
      "cell_type": "code",
      "metadata": {
        "colab": {
          "base_uri": "https://localhost:8080/"
        },
        "id": "5F6nLUgLM4Lt",
        "outputId": "d543f6fd-d711-4b34-c787-3eb0ee6200ee"
      },
      "source": [
        "print(classification_report(validation['label'], prediction))"
      ],
      "execution_count": 9,
      "outputs": [
        {
          "output_type": "stream",
          "name": "stdout",
          "text": [
            "              precision    recall  f1-score   support\n",
            "\n",
            "        fake       0.92      0.94      0.93      1020\n",
            "        real       0.95      0.93      0.94      1120\n",
            "\n",
            "    accuracy                           0.93      2140\n",
            "   macro avg       0.93      0.94      0.93      2140\n",
            "weighted avg       0.93      0.93      0.93      2140\n",
            "\n"
          ]
        }
      ]
    },
    {
      "cell_type": "code",
      "metadata": {
        "id": "QhqjqortaXsD"
      },
      "source": [
        "def get_metrics(predicted,true):\n",
        "    metrics = dict()\n",
        "    metrics['accuracy'] = round(accuracy_score(predicted, true), 5)\n",
        "    metrics['precision'] = round(precision_score(predicted, true, average = 'weighted'), 5)\n",
        "    metrics['recall'] = round(recall_score(predicted, true, average = 'weighted'), 5)\n",
        "    metrics['f1'] = round(f1_score(predicted, true, average = 'weighted'), 5)\n",
        "    \n",
        "    return metrics\n",
        "    "
      ],
      "execution_count": 22,
      "outputs": []
    },
    {
      "cell_type": "code",
      "metadata": {
        "colab": {
          "base_uri": "https://localhost:8080/"
        },
        "id": "ZS86Layta901",
        "outputId": "39ab5fc0-1988-41e2-a4ac-96d11aed342e"
      },
      "source": [
        "metrics = get_metrics(prediction, validation['label'])\n",
        "print(metrics)"
      ],
      "execution_count": 25,
      "outputs": [
        {
          "output_type": "stream",
          "name": "stdout",
          "text": [
            "{'accuracy': 0.93458, 'precision': 0.9348, 'recall': 0.93458, 'f1': 0.93455}\n"
          ]
        }
      ]
    },
    {
      "cell_type": "code",
      "metadata": {
        "id": "zyKzpUdkbYVY"
      },
      "source": [
        "with open(\"SVM_results.json\", \"w\") as output:\n",
        "    json.dump(metrics, output)"
      ],
      "execution_count": 29,
      "outputs": []
    }
  ]
}