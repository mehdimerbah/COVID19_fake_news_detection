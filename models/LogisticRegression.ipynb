{
  "nbformat": 4,
  "nbformat_minor": 0,
  "metadata": {
    "colab": {
      "name": "LogisticRegression.ipynb",
      "provenance": [],
      "collapsed_sections": [],
      "authorship_tag": "ABX9TyOgNgY5+/waQy5jeO6FgIWP",
      "include_colab_link": true
    },
    "kernelspec": {
      "name": "python3",
      "display_name": "Python 3"
    },
    "language_info": {
      "name": "python"
    }
  },
  "cells": [
    {
      "cell_type": "markdown",
      "metadata": {
        "id": "view-in-github",
        "colab_type": "text"
      },
      "source": [
        "<a href=\"https://colab.research.google.com/github/mehdimerbah/COVID19_fake_news_detection/blob/main/models/LogisticRegression.ipynb\" target=\"_parent\"><img src=\"https://colab.research.google.com/assets/colab-badge.svg\" alt=\"Open In Colab\"/></a>"
      ]
    },
    {
      "cell_type": "markdown",
      "metadata": {
        "id": "8vL_E8X3Kggn"
      },
      "source": [
        "# Library and Data Import"
      ]
    },
    {
      "cell_type": "code",
      "metadata": {
        "id": "pjYqA44Dznr1"
      },
      "source": [
        "import pandas as pd\n",
        "import numpy as np\n",
        "import matplotlib.pyplot as plt\n",
        "\n",
        "from sklearn.feature_extraction.text import CountVectorizer, TfidfTransformer\n",
        "from sklearn.linear_model import LogisticRegression\n",
        "from sklearn.metrics import classification_report, accuracy_score, precision_score, recall_score, f1_score\n",
        "from sklearn.pipeline import Pipeline\n",
        "import json\n"
      ],
      "execution_count": null,
      "outputs": []
    },
    {
      "cell_type": "code",
      "metadata": {
        "id": "Zr1WHQ6pKnkV"
      },
      "source": [
        "training = pd.read_csv('https://raw.githubusercontent.com/mehdimerbah/COVID19_fake_news_detection/main/preprocessing/processed_training_data.csv')\n",
        "validation = pd.read_csv('https://raw.githubusercontent.com/mehdimerbah/COVID19_fake_news_detection/main/preprocessing/processed_validation_data.csv')\n",
        "testing = pd.read_csv('https://raw.githubusercontent.com/mehdimerbah/COVID19_fake_news_detection/main/preprocessing/processed_testing_data.csv')"
      ],
      "execution_count": null,
      "outputs": []
    },
    {
      "cell_type": "markdown",
      "metadata": {
        "id": "Kb9uejMKJx3_"
      },
      "source": [
        "# Feature Extraction\n",
        "Since we already detailed the feature extraction process in SVM I will simply define and run the pipeline here."
      ]
    },
    {
      "cell_type": "code",
      "metadata": {
        "id": "4cNfZZtbJgm_"
      },
      "source": [
        "pipeline = Pipeline([\n",
        "        ('count_vectorizer', CountVectorizer()),  \n",
        "        ('tfidf_transformer', TfidfTransformer()),  \n",
        "        ('classifier', LogisticRegression())\n",
        "    ])"
      ],
      "execution_count": null,
      "outputs": []
    },
    {
      "cell_type": "code",
      "metadata": {
        "colab": {
          "base_uri": "https://localhost:8080/"
        },
        "id": "Tm6exf_RKKc_",
        "outputId": "02e65559-475a-4bf4-a3b3-7d9bf2e04498"
      },
      "source": [
        "pipeline.fit(training['tweet'], training['label'])"
      ],
      "execution_count": null,
      "outputs": [
        {
          "output_type": "execute_result",
          "data": {
            "text/plain": [
              "Pipeline(steps=[('count_vectorizer', CountVectorizer()),\n",
              "                ('tfidf_transformer', TfidfTransformer()),\n",
              "                ('classifier', LogisticRegression())])"
            ]
          },
          "metadata": {},
          "execution_count": 31
        }
      ]
    },
    {
      "cell_type": "markdown",
      "metadata": {
        "id": "wx4tBEtCLkvv"
      },
      "source": [
        "# Making Predictions"
      ]
    },
    {
      "cell_type": "code",
      "metadata": {
        "colab": {
          "base_uri": "https://localhost:8080/"
        },
        "id": "KNJs9L1gKyK2",
        "outputId": "a7f04781-198d-4c9f-f2bd-f660e5f312ec"
      },
      "source": [
        "predictions = pipeline.predict(validation['tweet'])\n",
        "predictions"
      ],
      "execution_count": null,
      "outputs": [
        {
          "output_type": "execute_result",
          "data": {
            "text/plain": [
              "array(['fake', 'real', 'fake', ..., 'fake', 'fake', 'real'], dtype=object)"
            ]
          },
          "metadata": {},
          "execution_count": 32
        }
      ]
    },
    {
      "cell_type": "markdown",
      "metadata": {
        "id": "v-eZbgh_olJv"
      },
      "source": [
        "# Results\n",
        "extract the results from our predictions by contrasting with the validation set."
      ]
    },
    {
      "cell_type": "code",
      "metadata": {
        "colab": {
          "base_uri": "https://localhost:8080/"
        },
        "id": "D1LbD9uFLuoR",
        "outputId": "2229e2c6-c73c-4c8e-f3b5-4dde36a6769e"
      },
      "source": [
        "print(classification_report(predictions, validation['label']))"
      ],
      "execution_count": null,
      "outputs": [
        {
          "output_type": "stream",
          "name": "stdout",
          "text": [
            "              precision    recall  f1-score   support\n",
            "\n",
            "        fake       0.94      0.91      0.93      1053\n",
            "        real       0.92      0.94      0.93      1087\n",
            "\n",
            "    accuracy                           0.93      2140\n",
            "   macro avg       0.93      0.93      0.93      2140\n",
            "weighted avg       0.93      0.93      0.93      2140\n",
            "\n"
          ]
        }
      ]
    },
    {
      "cell_type": "code",
      "metadata": {
        "id": "spjLQIFzmNIt"
      },
      "source": [
        "def get_metrics(predicted,true):\n",
        "    metrics = dict()\n",
        "    metrics['accuracy'] = round(accuracy_score(predicted, true), 5)\n",
        "    metrics['precision'] = round(precision_score(predicted, true, average = 'weighted'), 5)\n",
        "    metrics['recall'] = round(recall_score(predicted, true, average = 'weighted'), 5)\n",
        "    metrics['f1'] = round(f1_score(predicted, true, average = 'weighted'), 5)\n",
        "    \n",
        "    return metrics"
      ],
      "execution_count": null,
      "outputs": []
    },
    {
      "cell_type": "code",
      "metadata": {
        "colab": {
          "base_uri": "https://localhost:8080/"
        },
        "id": "I-Fl_PDqmOEz",
        "outputId": "6a0eeb71-b1d1-438d-c017-99b6469ab2cb"
      },
      "source": [
        "metrics = get_metrics(predictions, validation['label'])\n",
        "print(metrics)"
      ],
      "execution_count": null,
      "outputs": [
        {
          "output_type": "stream",
          "name": "stdout",
          "text": [
            "{'accuracy': 0.92757, 'precision': 0.92794, 'recall': 0.92757, 'f1': 0.92754}\n"
          ]
        }
      ]
    },
    {
      "cell_type": "code",
      "metadata": {
        "id": "3cYkppdjmRog"
      },
      "source": [
        "with open(\"LR_results.json\", \"w\") as output:\n",
        "    json.dump(metrics, output)"
      ],
      "execution_count": null,
      "outputs": []
    }
  ]
}