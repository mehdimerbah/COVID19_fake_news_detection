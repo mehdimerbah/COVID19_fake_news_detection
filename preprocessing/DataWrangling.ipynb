{
  "nbformat": 4,
  "nbformat_minor": 0,
  "metadata": {
    "colab": {
      "name": "DataWrangling.ipynb",
      "provenance": [],
      "collapsed_sections": []
    },
    "kernelspec": {
      "name": "python3",
      "display_name": "Python 3"
    },
    "language_info": {
      "name": "python"
    }
  },
  "cells": [
    {
      "cell_type": "code",
      "metadata": {
        "colab": {
          "base_uri": "https://localhost:8080/"
        },
        "id": "YU0UIHlE9uau",
        "outputId": "87f53260-2123-4be9-86bf-6148201bdd37"
      },
      "source": [
        "import pandas as pd\n",
        "import numpy as np\n",
        "import matplotlib.pyplot as plt\n",
        "import re\n",
        "import nltk\n",
        "nltk.download('stopwords')\n",
        "from nltk.corpus import stopwords\n",
        "stopwords = set(stopwords.words('english'))"
      ],
      "execution_count": 23,
      "outputs": [
        {
          "output_type": "stream",
          "name": "stdout",
          "text": [
            "[nltk_data] Downloading package stopwords to /root/nltk_data...\n",
            "[nltk_data]   Package stopwords is already up-to-date!\n"
          ]
        }
      ]
    },
    {
      "cell_type": "code",
      "metadata": {
        "id": "AVIocMQr-Y5o"
      },
      "source": [
        "def preprocess_tweet(tweet):\n",
        "  tmp = tweet.lower().split()\n",
        "  tmp = ' '.join(tmp)\n",
        "  tmp = re.sub(r'http(\\S)+', ' ', tmp)\n",
        "  tmp = re.sub(r'www(\\S)+', ' ', tmp)\n",
        "  tmp = re.sub(r'&', ' and', tmp)\n",
        "  tmp = re.sub(r'&amp', ' ', tmp)\n",
        "  tmp = re.sub(r'[^0-9a-zA-Z]+', ' ', tmp)\n",
        "  tmp = tmp.split()\n",
        "  tmp = [word for word in tmp if not (word in stopwords)]\n",
        "  tmp = ' '.join(tmp)\n",
        "  return tmp"
      ],
      "execution_count": 36,
      "outputs": []
    },
    {
      "cell_type": "code",
      "metadata": {
        "id": "WBIbpfxLAtdM"
      },
      "source": [
        "# Importing the datasets\n",
        "training_data = pd.read_csv('https://raw.githubusercontent.com/mehdimerbah/COVID19_fake_news_detection/main/data/train_data.csv')\n",
        "testing_data = pd.read_csv('https://raw.githubusercontent.com/mehdimerbah/COVID19_fake_news_detection/main/data/test_data.csv')\n",
        "validation_data = pd.read_csv('https://raw.githubusercontent.com/mehdimerbah/COVID19_fake_news_detection/main/data/validation_data.csv')"
      ],
      "execution_count": 42,
      "outputs": []
    },
    {
      "cell_type": "code",
      "metadata": {
        "colab": {
          "base_uri": "https://localhost:8080/",
          "height": 206
        },
        "id": "P28PghosA0S7",
        "outputId": "b95895d8-b54b-491c-af3e-6762862ea135"
      },
      "source": [
        "training_data['tweet'] = training_data['tweet'].map(lambda x: preprocess_tweet(x))\n",
        "training_data.to_csv('/processed_training_data.csv')\n",
        "testing_data['tweet'] = testing_data['tweet'].map(lambda x: preprocess_tweet(x))\n",
        "testing_data.to_csv('/processed_testing_data.csv')\n",
        "validation_data['tweet'] = validation_data['tweet'].map(lambda x: preprocess_tweet(x))\n",
        "validation_data.to_csv('/processed_validation_data.csv')\n",
        "training_data.head()"
      ],
      "execution_count": 44,
      "outputs": [
        {
          "output_type": "execute_result",
          "data": {
            "text/html": [
              "<div>\n",
              "<style scoped>\n",
              "    .dataframe tbody tr th:only-of-type {\n",
              "        vertical-align: middle;\n",
              "    }\n",
              "\n",
              "    .dataframe tbody tr th {\n",
              "        vertical-align: top;\n",
              "    }\n",
              "\n",
              "    .dataframe thead th {\n",
              "        text-align: right;\n",
              "    }\n",
              "</style>\n",
              "<table border=\"1\" class=\"dataframe\">\n",
              "  <thead>\n",
              "    <tr style=\"text-align: right;\">\n",
              "      <th></th>\n",
              "      <th>id</th>\n",
              "      <th>tweet</th>\n",
              "      <th>label</th>\n",
              "    </tr>\n",
              "  </thead>\n",
              "  <tbody>\n",
              "    <tr>\n",
              "      <th>0</th>\n",
              "      <td>1</td>\n",
              "      <td>cdc currently reports 99031 deaths general dis...</td>\n",
              "      <td>real</td>\n",
              "    </tr>\n",
              "    <tr>\n",
              "      <th>1</th>\n",
              "      <td>2</td>\n",
              "      <td>states reported 1121 deaths small rise last tu...</td>\n",
              "      <td>real</td>\n",
              "    </tr>\n",
              "    <tr>\n",
              "      <th>2</th>\n",
              "      <td>3</td>\n",
              "      <td>politically correct woman almost uses pandemic...</td>\n",
              "      <td>fake</td>\n",
              "    </tr>\n",
              "    <tr>\n",
              "      <th>3</th>\n",
              "      <td>4</td>\n",
              "      <td>indiafightscorona 1524 covid testing laborator...</td>\n",
              "      <td>real</td>\n",
              "    </tr>\n",
              "    <tr>\n",
              "      <th>4</th>\n",
              "      <td>5</td>\n",
              "      <td>populous states generate large case counts loo...</td>\n",
              "      <td>real</td>\n",
              "    </tr>\n",
              "  </tbody>\n",
              "</table>\n",
              "</div>"
            ],
            "text/plain": [
              "   id                                              tweet label\n",
              "0   1  cdc currently reports 99031 deaths general dis...  real\n",
              "1   2  states reported 1121 deaths small rise last tu...  real\n",
              "2   3  politically correct woman almost uses pandemic...  fake\n",
              "3   4  indiafightscorona 1524 covid testing laborator...  real\n",
              "4   5  populous states generate large case counts loo...  real"
            ]
          },
          "metadata": {},
          "execution_count": 44
        }
      ]
    }
  ]
}