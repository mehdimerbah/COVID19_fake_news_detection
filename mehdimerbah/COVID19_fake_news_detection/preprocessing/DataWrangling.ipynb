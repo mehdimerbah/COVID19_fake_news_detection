{
  "nbformat": 4,
  "nbformat_minor": 0,
  "metadata": {
    "colab": {
      "name": "DataWrangling.ipynb",
      "provenance": [],
      "collapsed_sections": [],
      "authorship_tag": "ABX9TyPxZlYI3A3HHqd0ZaAKqezX",
      "include_colab_link": true
    },
    "kernelspec": {
      "name": "python3",
      "display_name": "Python 3"
    },
    "language_info": {
      "name": "python"
    }
  },
  "cells": [
    {
      "cell_type": "markdown",
      "metadata": {
        "id": "view-in-github",
        "colab_type": "text"
      },
      "source": [
        "<a href=\"https://colab.research.google.com/github/mehdimerbah/COVID19_fake_news_detection/blob/main/mehdimerbah/COVID19_fake_news_detection/preprocessing/DataWrangling.ipynb\" target=\"_parent\"><img src=\"https://colab.research.google.com/assets/colab-badge.svg\" alt=\"Open In Colab\"/></a>"
      ]
    },
    {
      "cell_type": "code",
      "metadata": {
        "colab": {
          "base_uri": "https://localhost:8080/"
        },
        "id": "YU0UIHlE9uau",
        "outputId": "528d80ed-7497-4336-b3eb-6b3cb1ccdbad"
      },
      "source": [
        "import pandas as pd\n",
        "import numpy as np\n",
        "import matplotlib.pyplot as plt\n",
        "import re\n",
        "import nltk\n",
        "nltk.download('stopwords')\n",
        "from nltk.corpus import stopwords\n",
        "stopwords = set(stopwords.words('english'))"
      ],
      "execution_count": 1,
      "outputs": [
        {
          "output_type": "stream",
          "name": "stdout",
          "text": [
            "[nltk_data] Downloading package stopwords to /root/nltk_data...\n",
            "[nltk_data]   Unzipping corpora/stopwords.zip.\n"
          ]
        }
      ]
    },
    {
      "cell_type": "code",
      "metadata": {
        "id": "AVIocMQr-Y5o"
      },
      "source": [
        "def preprocess_tweet(tweet):\n",
        "  tmp = tweet.lower().split()\n",
        "  tmp = ' '.join(tmp)\n",
        "  tmp = re.sub(r'http(\\S)+', ' ', tmp)\n",
        "  tmp = re.sub(r'www(\\S)+', ' ', tmp)\n",
        "  tmp = re.sub(r'&', ' and', tmp)\n",
        "  tmp = re.sub(r'&amp', ' ', tmp)\n",
        "  tmp = re.sub(r'[^0-9a-zA-Z]+', ' ', tmp)\n",
        "  tmp = tmp.split()\n",
        "  tmp = [word for word in tmp if not (word in stopwords)]\n",
        "  tmp = ' '.join(tmp)\n",
        "  return tmp"
      ],
      "execution_count": 2,
      "outputs": []
    },
    {
      "cell_type": "code",
      "metadata": {
        "id": "WBIbpfxLAtdM"
      },
      "source": [
        "# Importing the datasets\n",
        "training_data = pd.read_csv('https://raw.githubusercontent.com/mehdimerbah/COVID19_fake_news_detection/main/data/train_data.csv')\n",
        "testing_data = pd.read_csv('https://raw.githubusercontent.com/mehdimerbah/COVID19_fake_news_detection/main/data/test_data.csv')\n",
        "validation_data = pd.read_csv('https://raw.githubusercontent.com/mehdimerbah/COVID19_fake_news_detection/main/data/validation_data.csv')"
      ],
      "execution_count": 3,
      "outputs": []
    },
    {
      "cell_type": "code",
      "metadata": {
        "id": "P28PghosA0S7"
      },
      "source": [
        "#training_data = training_data.drop(columns='id')\n",
        "#testing_data = testing_data.drop(columns='id')\n",
        "#validation_data = validation_data.drop(columns='id')\n",
        "\n",
        "training_data['tweet'] = training_data['tweet'].map(lambda x: preprocess_tweet(x))\n",
        "training_data.to_csv('/processed_training_data.csv')\n",
        "\n",
        "testing_data['tweet'] = testing_data['tweet'].map(lambda x: preprocess_tweet(x))\n",
        "testing_data.to_csv('/processed_testing_data.csv')\n",
        "\n",
        "validation_data['tweet'] = validation_data['tweet'].map(lambda x: preprocess_tweet(x))\n",
        "validation_data.to_csv('/processed_validation_data.csv')"
      ],
      "execution_count": 28,
      "outputs": []
    },
    {
      "cell_type": "code",
      "metadata": {
        "id": "lJRgJkmAkh-J"
      },
      "source": [
        "whole_processed_data = pd.concat([training_data, validation_data, testing_data])\n",
        "whole_processed_data.to_csv('/whole_processed_data.csv')"
      ],
      "execution_count": 35,
      "outputs": []
    }
  ]
}